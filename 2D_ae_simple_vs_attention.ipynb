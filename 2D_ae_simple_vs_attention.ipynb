{
 "cells": [
  {
   "cell_type": "code",
   "execution_count": 2,
   "metadata": {},
   "outputs": [
    {
     "name": "stdout",
     "output_type": "stream",
     "text": [
      "[5 0 4 ... 5 6 8]\n",
      "(60000, 28, 28)\n",
      "(10000, 28, 28)\n",
      "784\n",
      "(28, 28, 1)\n"
     ]
    }
   ],
   "source": [
    "# loading and reshaping data \n",
    "\n",
    "from keras.datasets import mnist\n",
    "import numpy as np\n",
    "\n",
    "(x_train, y_train), (x_test, y_test) = mnist.load_data()\n",
    "\n",
    "# labels\n",
    "print(y_train)\n",
    "\n",
    "# data\n",
    "print(x_train.shape)\n",
    "print(x_test.shape)\n",
    "\n",
    "x_train = x_train.astype('float32') / 255 # 255 max rgb value\n",
    "x_test = x_test.astype('float32') / 255\n",
    "\n",
    "x_train = x_train.reshape(len(x_train), 28,28,1)\n",
    "x_test = x_test.reshape(len(x_test), 28,28,1)\n",
    "\n",
    "number_of_pixels = np.prod(x_train.shape[1:])\n",
    "\n",
    "print(number_of_pixels)\n",
    "input_dim = x_train.shape[1:]\n",
    "\n",
    "print(input_dim)"
   ]
  },
  {
   "cell_type": "code",
   "execution_count": 3,
   "metadata": {},
   "outputs": [
    {
     "name": "stdout",
     "output_type": "stream",
     "text": [
      "(None, 28, 28, 1)\n",
      "...encoder.....\n",
      "(None, 28, 28, 16)\n",
      "(None, 7, 7, 16)\n",
      "(7, 7, 16)\n",
      "...decoder.....\n",
      "(None, 7, 7, 16)\n",
      "(None, 28, 28, 16)\n",
      "(None, 28, 28, 1)\n"
     ]
    }
   ],
   "source": [
    "######################################## simple 2D autoencoder #################################################\n",
    "\n",
    "import tensorflow as tf\n",
    "from tensorflow.keras.layers import Input, Dense, Conv2D , MaxPooling2D, Reshape, UpSampling2D,Attention\n",
    "from tensorflow.keras.layers import Attention, GlobalAveragePooling2D, Concatenate\n",
    "from tensorflow.keras.models import Model # (template for architecture)\n",
    "\n",
    "\n",
    "#........................................................................ encoder\n",
    "\n",
    "# input layer\n",
    "input_img = Input(shape=input_dim)\n",
    "\n",
    "print(input_img.shape)\n",
    "\n",
    "# encoder\n",
    "print('...encoder.....')\n",
    "\n",
    "conv1_layer = Conv2D(16, (3, 3), activation='relu', padding='same')\n",
    "conv1_output = conv1_layer(input_img)\n",
    "\n",
    "print(conv1_output.shape)\n",
    "\n",
    "pool1_layer = MaxPooling2D((4, 4), padding='same')\n",
    "pool1_output = pool1_layer (conv1_output)\n",
    "\n",
    "print(pool1_output.shape)\n",
    "\n",
    "encoded = pool1_output\n",
    "\n",
    "latent_dim = encoded.shape[1:]\n",
    "print(latent_dim)\n",
    "\n",
    "#........................................................................ decoder\n",
    "\n",
    "print('...decoder.....')\n",
    "conv1_decoder_layer = Conv2D(16, (3, 3), activation='relu', padding='same')\n",
    "conv1_decoder_output = conv1_decoder_layer(encoded)\n",
    "print(conv1_decoder_output.shape)\n",
    "\n",
    "pool1_decoder = UpSampling2D((4, 4))\n",
    "upsample1_decoder_out  = pool1_decoder(conv1_decoder_output)\n",
    "print(upsample1_decoder_out.shape)\n",
    "\n",
    "\n",
    "conv2_decoder_layer = Conv2D(1, (3, 3), activation='relu', padding='same')\n",
    "conv2_decoder_output = conv2_decoder_layer(upsample1_decoder_out)\n",
    "print(conv2_decoder_output.shape)\n",
    "\n",
    "decoded = conv2_decoder_output"
   ]
  },
  {
   "cell_type": "code",
   "execution_count": 4,
   "metadata": {},
   "outputs": [
    {
     "name": "stdout",
     "output_type": "stream",
     "text": [
      "Model: \"model\"\n",
      "_________________________________________________________________\n",
      "Layer (type)                 Output Shape              Param #   \n",
      "=================================================================\n",
      "input_1 (InputLayer)         [(None, 28, 28, 1)]       0         \n",
      "_________________________________________________________________\n",
      "conv2d (Conv2D)              (None, 28, 28, 16)        160       \n",
      "_________________________________________________________________\n",
      "max_pooling2d (MaxPooling2D) (None, 7, 7, 16)          0         \n",
      "_________________________________________________________________\n",
      "conv2d_1 (Conv2D)            (None, 7, 7, 16)          2320      \n",
      "_________________________________________________________________\n",
      "up_sampling2d (UpSampling2D) (None, 28, 28, 16)        0         \n",
      "_________________________________________________________________\n",
      "conv2d_2 (Conv2D)            (None, 28, 28, 1)         145       \n",
      "=================================================================\n",
      "Total params: 2,625\n",
      "Trainable params: 2,625\n",
      "Non-trainable params: 0\n",
      "_________________________________________________________________\n",
      "None\n"
     ]
    }
   ],
   "source": [
    "simple_autoencoder = Model(input_img, decoded)\n",
    "print(simple_autoencoder.summary())"
   ]
  },
  {
   "cell_type": "code",
   "execution_count": 5,
   "metadata": {},
   "outputs": [],
   "source": [
    "from tensorflow.keras.optimizers import Adadelta\n",
    "simple_autoencoder.compile(optimizer=Adadelta(learning_rate=1.0), loss='binary_crossentropy')"
   ]
  },
  {
   "cell_type": "code",
   "execution_count": 8,
   "metadata": {},
   "outputs": [
    {
     "name": "stdout",
     "output_type": "stream",
     "text": [
      "Epoch 1/50\n",
      "235/235 [==============================] - 2s 7ms/step - loss: 0.1842 - val_loss: 0.2007\n",
      "Epoch 2/50\n",
      "235/235 [==============================] - 1s 6ms/step - loss: 0.1469 - val_loss: 0.1392\n",
      "Epoch 3/50\n",
      "235/235 [==============================] - 1s 6ms/step - loss: 0.1393 - val_loss: 0.1311\n",
      "Epoch 4/50\n",
      "235/235 [==============================] - 1s 5ms/step - loss: 0.1329 - val_loss: 0.1258\n",
      "Epoch 5/50\n",
      "235/235 [==============================] - 1s 6ms/step - loss: 0.1279 - val_loss: 0.1328\n",
      "Epoch 6/50\n",
      "235/235 [==============================] - 1s 6ms/step - loss: 0.1287 - val_loss: 0.2447\n",
      "Epoch 7/50\n",
      "235/235 [==============================] - 1s 6ms/step - loss: 0.1229 - val_loss: 0.1191\n",
      "Epoch 8/50\n",
      "235/235 [==============================] - 1s 6ms/step - loss: 0.1219 - val_loss: 0.1185\n",
      "Epoch 9/50\n",
      "235/235 [==============================] - 1s 5ms/step - loss: 0.1221 - val_loss: 0.1159\n",
      "Epoch 10/50\n",
      "235/235 [==============================] - 1s 6ms/step - loss: 0.1184 - val_loss: 0.1153\n",
      "Epoch 11/50\n",
      "235/235 [==============================] - 1s 6ms/step - loss: 0.1187 - val_loss: 0.1150\n",
      "Epoch 12/50\n",
      "235/235 [==============================] - 1s 5ms/step - loss: 0.1167 - val_loss: 0.1133\n",
      "Epoch 13/50\n",
      "235/235 [==============================] - 1s 5ms/step - loss: 0.1161 - val_loss: 0.1130\n",
      "Epoch 14/50\n",
      "235/235 [==============================] - 1s 6ms/step - loss: 0.1154 - val_loss: 0.1120\n",
      "Epoch 15/50\n",
      "235/235 [==============================] - 1s 6ms/step - loss: 0.1184 - val_loss: 0.1149\n",
      "Epoch 16/50\n",
      "235/235 [==============================] - 1s 5ms/step - loss: 0.1143 - val_loss: 0.1130\n",
      "Epoch 17/50\n",
      "235/235 [==============================] - 1s 6ms/step - loss: 0.1142 - val_loss: 0.1124\n",
      "Epoch 18/50\n",
      "235/235 [==============================] - 1s 6ms/step - loss: 0.1147 - val_loss: 0.1113\n",
      "Epoch 19/50\n",
      "235/235 [==============================] - 1s 6ms/step - loss: 0.1132 - val_loss: 0.1107\n",
      "Epoch 20/50\n",
      "235/235 [==============================] - 1s 6ms/step - loss: 0.1151 - val_loss: 0.1107\n",
      "Epoch 21/50\n",
      "235/235 [==============================] - 1s 6ms/step - loss: 0.1126 - val_loss: 0.1101\n",
      "Epoch 22/50\n",
      "235/235 [==============================] - 1s 6ms/step - loss: 0.1124 - val_loss: 0.1101\n",
      "Epoch 23/50\n",
      "235/235 [==============================] - 1s 5ms/step - loss: 0.1119 - val_loss: 0.1098\n",
      "Epoch 24/50\n",
      "235/235 [==============================] - 1s 6ms/step - loss: 0.1130 - val_loss: 0.1096\n",
      "Epoch 25/50\n",
      "235/235 [==============================] - 1s 6ms/step - loss: 0.1114 - val_loss: 0.1096\n",
      "Epoch 26/50\n",
      "235/235 [==============================] - 1s 5ms/step - loss: 0.1123 - val_loss: 0.1095\n",
      "Epoch 27/50\n",
      "235/235 [==============================] - 1s 6ms/step - loss: 0.1143 - val_loss: 0.1096\n",
      "Epoch 28/50\n",
      "235/235 [==============================] - 1s 6ms/step - loss: 0.1106 - val_loss: 0.1085\n",
      "Epoch 29/50\n",
      "235/235 [==============================] - 1s 5ms/step - loss: 0.1101 - val_loss: 0.1080\n",
      "Epoch 30/50\n",
      "235/235 [==============================] - 1s 6ms/step - loss: 0.1103 - val_loss: 0.1081\n",
      "Epoch 31/50\n",
      "235/235 [==============================] - 1s 6ms/step - loss: 0.1101 - val_loss: 0.1077\n",
      "Epoch 32/50\n",
      "235/235 [==============================] - 1s 6ms/step - loss: 0.1100 - val_loss: 0.1083\n",
      "Epoch 33/50\n",
      "235/235 [==============================] - 1s 6ms/step - loss: 0.1093 - val_loss: 0.1399\n",
      "Epoch 34/50\n",
      "235/235 [==============================] - 1s 6ms/step - loss: 0.1103 - val_loss: 0.1077\n",
      "Epoch 35/50\n",
      "235/235 [==============================] - 1s 6ms/step - loss: 0.1103 - val_loss: 0.1070\n",
      "Epoch 36/50\n",
      "235/235 [==============================] - 1s 6ms/step - loss: 0.1093 - val_loss: 0.1075\n",
      "Epoch 37/50\n",
      "235/235 [==============================] - 1s 6ms/step - loss: 0.1092 - val_loss: 0.1068\n",
      "Epoch 38/50\n",
      "235/235 [==============================] - 1s 6ms/step - loss: 0.1098 - val_loss: 0.1069\n",
      "Epoch 39/50\n",
      "235/235 [==============================] - 1s 6ms/step - loss: 0.1086 - val_loss: 0.1687\n",
      "Epoch 40/50\n",
      "235/235 [==============================] - 1s 6ms/step - loss: 0.1085 - val_loss: 0.1064\n",
      "Epoch 41/50\n",
      "235/235 [==============================] - 1s 6ms/step - loss: 0.1096 - val_loss: 0.1066\n",
      "Epoch 42/50\n",
      "235/235 [==============================] - 1s 6ms/step - loss: 0.1084 - val_loss: 0.1065\n",
      "Epoch 43/50\n",
      "235/235 [==============================] - 1s 6ms/step - loss: 0.1086 - val_loss: 0.1073\n",
      "Epoch 44/50\n",
      "235/235 [==============================] - 1s 6ms/step - loss: 0.1087 - val_loss: 0.1064\n",
      "Epoch 45/50\n",
      "235/235 [==============================] - 1s 6ms/step - loss: 0.1085 - val_loss: 0.1064\n",
      "Epoch 46/50\n",
      "235/235 [==============================] - 1s 6ms/step - loss: 0.1078 - val_loss: 0.1093\n",
      "Epoch 47/50\n",
      "235/235 [==============================] - 1s 6ms/step - loss: 0.1089 - val_loss: 0.1060\n",
      "Epoch 48/50\n",
      "235/235 [==============================] - 1s 5ms/step - loss: 0.1077 - val_loss: 0.1056\n",
      "Epoch 49/50\n",
      "235/235 [==============================] - 1s 6ms/step - loss: 0.1081 - val_loss: 0.1056\n",
      "Epoch 50/50\n",
      "235/235 [==============================] - 1s 6ms/step - loss: 0.1085 - val_loss: 0.1076\n"
     ]
    },
    {
     "data": {
      "text/plain": [
       "<tensorflow.python.keras.callbacks.History at 0x7f679bf50080>"
      ]
     },
     "execution_count": 8,
     "metadata": {},
     "output_type": "execute_result"
    }
   ],
   "source": [
    "# Train model\n",
    "simple_autoencoder.fit(x_train, x_train,  # the target is the same input data!\n",
    "                       epochs=50, \n",
    "                       batch_size=256, \n",
    "                       shuffle=True, \n",
    "                       validation_data=(x_test, x_test)) "
   ]
  },
  {
   "cell_type": "code",
   "execution_count": null,
   "metadata": {},
   "outputs": [],
   "source": [
    "######################################    visualizing output of simple autoancoder ######################################"
   ]
  },
  {
   "cell_type": "code",
   "execution_count": 10,
   "metadata": {},
   "outputs": [
    {
     "name": "stdout",
     "output_type": "stream",
     "text": [
      "(10000, 28, 28, 1)\n",
      "(28, 28)\n",
      "(28, 28)\n"
     ]
    },
    {
     "data": {
      "image/png": "[encoded data removed]",
      "text/plain": [
       "<Figure size 1440x288 with 20 Axes>"
      ]
     },
     "metadata": {
      "needs_background": "light"
     },
     "output_type": "display_data"
    }
   ],
   "source": [
    "import matplotlib.pyplot as plt\n",
    "\n",
    "# Predict digits\n",
    "decoded_imgs = simple_autoencoder.predict(x_test)\n",
    "print(decoded_imgs.shape)\n",
    "\n",
    "im = x_test[0].reshape(28, 28)\n",
    "print(im.shape)\n",
    "\n",
    "im = decoded_imgs[0].reshape(28, 28)\n",
    "print(im.shape)\n",
    "\n",
    "n = 10\n",
    "plt.figure(figsize=(20, 4))\n",
    "for i in range(n):\n",
    "    # display original\n",
    "    ax = plt.subplot(2, n, i+1)\n",
    "    plt.imshow(x_test[i].reshape(28, 28))\n",
    "    plt.gray()\n",
    "    ax.get_xaxis().set_visible(False)\n",
    "    ax.get_yaxis().set_visible(False)\n",
    "\n",
    "    # display reconstruction\n",
    "    ax = plt.subplot(2, n, i+1 + n)\n",
    "    plt.imshow(decoded_imgs[i].reshape(28, 28))\n",
    "    plt.gray()\n",
    "    ax.get_xaxis().set_visible(False)\n",
    "    ax.get_yaxis().set_visible(False)\n",
    "plt.show()\n"
   ]
  },
  {
   "cell_type": "code",
   "execution_count": 11,
   "metadata": {},
   "outputs": [],
   "source": [
    "\n",
    "\n",
    "################################################ AUTOENCODER + ATTENTION ################################################\n",
    "\n",
    "\n",
    "\n"
   ]
  },
  {
   "cell_type": "code",
   "execution_count": 12,
   "metadata": {},
   "outputs": [
    {
     "name": "stdout",
     "output_type": "stream",
     "text": [
      "[5 0 4 ... 5 6 8]\n",
      "(60000, 28, 28)\n",
      "(10000, 28, 28)\n",
      "784\n",
      "(28, 28, 1)\n"
     ]
    }
   ],
   "source": [
    "# loading and reshaping data\n",
    "\n",
    "from keras.datasets import mnist\n",
    "import numpy as np\n",
    "\n",
    "(x_train, y_train), (x_test, y_test) = mnist.load_data()\n",
    "\n",
    "# labels\n",
    "print(y_train)\n",
    "\n",
    "# data\n",
    "print(x_train.shape)\n",
    "print(x_test.shape)\n",
    "\n",
    "x_train = x_train.astype('float32') / 255 # 255 max rgb value\n",
    "x_test = x_test.astype('float32') / 255\n",
    "\n",
    "x_train = x_train.reshape(len(x_train), 28,28,1)\n",
    "x_test = x_test.reshape(len(x_test), 28,28,1)\n",
    "\n",
    "number_of_pixels = np.prod(x_train.shape[1:])\n",
    "\n",
    "print(number_of_pixels)\n",
    "input_dim = x_train.shape[1:]\n",
    "\n",
    "print(input_dim)"
   ]
  },
  {
   "cell_type": "code",
   "execution_count": 13,
   "metadata": {},
   "outputs": [
    {
     "name": "stdout",
     "output_type": "stream",
     "text": [
      "(None, 28, 28, 1)\n",
      "...encoder.....\n",
      "(None, 28, 28, 16)\n"
     ]
    }
   ],
   "source": [
    "import tensorflow as tf\n",
    "from tensorflow.keras.layers import Input, Dense, Conv2D , MaxPooling2D, Reshape, UpSampling2D,Attention\n",
    "from tensorflow.keras.layers import Attention, GlobalAveragePooling2D, Concatenate\n",
    "from tensorflow.keras.models import Model # (template for architecture)\n",
    "\n",
    "\n",
    "############################################### encoder block: layers before attention layer\n",
    "# input layer\n",
    "input_img = Input(shape=input_dim)\n",
    "print(input_img.shape)\n",
    "\n",
    "\n",
    "# encoder\n",
    "print('...encoder.....')\n",
    "\n",
    "conv1_layer = Conv2D(16, (3, 3), activation='relu', padding='same')\n",
    "conv1_output = conv1_layer(input_img)\n",
    "\n",
    "print(conv1_output.shape)"
   ]
  },
  {
   "cell_type": "code",
   "execution_count": 14,
   "metadata": {},
   "outputs": [
    {
     "name": "stdout",
     "output_type": "stream",
     "text": [
      ".................ATTENTION ...........................\n",
      "attention output shapeTensor(\"attention/Identity:0\", shape=(None, 28, 28, 16), dtype=float32)\n",
      "final_out_attentioTensor(\"concatenate/Identity:0\", shape=(None, 28, 28, 32), dtype=float32)\n"
     ]
    }
   ],
   "source": [
    "\n",
    "############################################### encoder block: Attention \n",
    "\n",
    "print ('.................ATTENTION ...........................')\n",
    "\n",
    "query = conv1_output\n",
    "value = conv1_output\n",
    "\n",
    "query_value_attention = Attention()([query, value])\n",
    "\n",
    "print('attention output shape' + str(query_value_attention))\n",
    "\n",
    "#Concatenate query and document encodings to produce a DNN input layer.\n",
    "final_out_attention = Concatenate(axis=-1)([query, query_value_attention])\n",
    "\n",
    "print('final_out_attentio' + str(final_out_attention))\n"
   ]
  },
  {
   "cell_type": "code",
   "execution_count": 15,
   "metadata": {},
   "outputs": [
    {
     "name": "stdout",
     "output_type": "stream",
     "text": [
      "(None, 7, 7, 32)\n",
      "(7, 7, 32)\n"
     ]
    }
   ],
   "source": [
    "\n",
    "############################################### encoder block: layers after attention layer\n",
    "\n",
    "pool1_layer = MaxPooling2D((4, 4), padding='same')\n",
    "pool1_output = pool1_layer (final_out_attention)\n",
    "\n",
    "print(pool1_output.shape)\n",
    "\n",
    "encoded = pool1_output\n",
    "\n",
    "latent_dim = encoded.shape[1:]\n",
    "print(latent_dim)"
   ]
  },
  {
   "cell_type": "code",
   "execution_count": 16,
   "metadata": {},
   "outputs": [
    {
     "name": "stdout",
     "output_type": "stream",
     "text": [
      "...decoder.....\n",
      "(None, 7, 7, 16)\n",
      "(None, 28, 28, 16)\n",
      "(None, 28, 28, 1)\n"
     ]
    }
   ],
   "source": [
    "\n",
    "############################################### decoder block\n",
    "\n",
    "print('...decoder.....')\n",
    "conv1_decoder_layer = Conv2D(16, (3, 3), activation='relu', padding='same')\n",
    "conv1_decoder_output = conv1_decoder_layer(encoded)\n",
    "print(conv1_decoder_output.shape)\n",
    "\n",
    "pool1_decoder = UpSampling2D((4, 4))\n",
    "upsample1_decoder_out  = pool1_decoder(conv1_decoder_output)\n",
    "print(upsample1_decoder_out.shape)\n",
    "\n",
    "\n",
    "conv2_decoder_layer = Conv2D(1, (3, 3), activation='relu', padding='same')\n",
    "conv2_decoder_output = conv2_decoder_layer(upsample1_decoder_out)\n",
    "print(conv2_decoder_output.shape)\n",
    "\n",
    "\n",
    "decoded = conv2_decoder_output"
   ]
  },
  {
   "cell_type": "code",
   "execution_count": 17,
   "metadata": {},
   "outputs": [
    {
     "name": "stdout",
     "output_type": "stream",
     "text": [
      "Model: \"model_2\"\n",
      "__________________________________________________________________________________________________\n",
      "Layer (type)                    Output Shape         Param #     Connected to                     \n",
      "==================================================================================================\n",
      "input_3 (InputLayer)            [(None, 28, 28, 1)]  0                                            \n",
      "__________________________________________________________________________________________________\n",
      "conv2d_3 (Conv2D)               (None, 28, 28, 16)   160         input_3[0][0]                    \n",
      "__________________________________________________________________________________________________\n",
      "attention (Attention)           (None, 28, 28, 16)   0           conv2d_3[0][0]                   \n",
      "                                                                 conv2d_3[0][0]                   \n",
      "__________________________________________________________________________________________________\n",
      "concatenate (Concatenate)       (None, 28, 28, 32)   0           conv2d_3[0][0]                   \n",
      "                                                                 attention[0][0]                  \n",
      "__________________________________________________________________________________________________\n",
      "max_pooling2d_1 (MaxPooling2D)  (None, 7, 7, 32)     0           concatenate[0][0]                \n",
      "__________________________________________________________________________________________________\n",
      "conv2d_4 (Conv2D)               (None, 7, 7, 16)     4624        max_pooling2d_1[0][0]            \n",
      "__________________________________________________________________________________________________\n",
      "up_sampling2d_1 (UpSampling2D)  (None, 28, 28, 16)   0           conv2d_4[0][0]                   \n",
      "__________________________________________________________________________________________________\n",
      "conv2d_5 (Conv2D)               (None, 28, 28, 1)    145         up_sampling2d_1[0][0]            \n",
      "==================================================================================================\n",
      "Total params: 4,929\n",
      "Trainable params: 4,929\n",
      "Non-trainable params: 0\n",
      "__________________________________________________________________________________________________\n",
      "None\n"
     ]
    }
   ],
   "source": [
    "attention_autoencoder = Model(input_img, decoded)\n",
    "print(attention_autoencoder.summary())"
   ]
  },
  {
   "cell_type": "code",
   "execution_count": 18,
   "metadata": {},
   "outputs": [],
   "source": [
    "from tensorflow.keras.optimizers import Adadelta\n",
    "attention_autoencoder.compile(optimizer=Adadelta(learning_rate=1.0), loss='binary_crossentropy')"
   ]
  },
  {
   "cell_type": "code",
   "execution_count": 21,
   "metadata": {},
   "outputs": [
    {
     "name": "stdout",
     "output_type": "stream",
     "text": [
      "Epoch 1/50\n",
      "235/235 [==============================] - 3s 13ms/step - loss: 0.1781 - val_loss: 0.1413\n",
      "Epoch 2/50\n",
      "235/235 [==============================] - 3s 13ms/step - loss: 0.1423 - val_loss: 0.1289\n",
      "Epoch 3/50\n",
      "235/235 [==============================] - 3s 13ms/step - loss: 0.1298 - val_loss: 0.1257\n",
      "Epoch 4/50\n",
      "235/235 [==============================] - 3s 12ms/step - loss: 0.1286 - val_loss: 0.1206\n",
      "Epoch 5/50\n",
      "235/235 [==============================] - 3s 13ms/step - loss: 0.1242 - val_loss: 0.2665\n",
      "Epoch 6/50\n",
      "235/235 [==============================] - 3s 13ms/step - loss: 0.1214 - val_loss: 0.1170\n",
      "Epoch 7/50\n",
      "235/235 [==============================] - 3s 12ms/step - loss: 0.1196 - val_loss: 0.1149\n",
      "Epoch 8/50\n",
      "235/235 [==============================] - 3s 13ms/step - loss: 0.1179 - val_loss: 0.1164\n",
      "Epoch 9/50\n",
      "235/235 [==============================] - 3s 13ms/step - loss: 0.1180 - val_loss: 0.1169\n",
      "Epoch 10/50\n",
      "235/235 [==============================] - 3s 13ms/step - loss: 0.1161 - val_loss: 0.1126\n",
      "Epoch 11/50\n",
      "235/235 [==============================] - 3s 12ms/step - loss: 0.1165 - val_loss: 0.1126\n",
      "Epoch 12/50\n",
      "235/235 [==============================] - 3s 12ms/step - loss: 0.1158 - val_loss: 0.1119\n",
      "Epoch 13/50\n",
      "235/235 [==============================] - 3s 13ms/step - loss: 0.1151 - val_loss: 0.1113\n",
      "Epoch 14/50\n",
      "235/235 [==============================] - 3s 13ms/step - loss: 0.1136 - val_loss: 0.1119\n",
      "Epoch 15/50\n",
      "235/235 [==============================] - 3s 13ms/step - loss: 0.1131 - val_loss: 0.1141\n",
      "Epoch 16/50\n",
      "235/235 [==============================] - 3s 13ms/step - loss: 0.1132 - val_loss: 0.1100\n",
      "Epoch 17/50\n",
      "235/235 [==============================] - 3s 13ms/step - loss: 0.1144 - val_loss: 0.1133\n",
      "Epoch 18/50\n",
      "235/235 [==============================] - 3s 13ms/step - loss: 0.1125 - val_loss: 0.1097\n",
      "Epoch 19/50\n",
      "235/235 [==============================] - 3s 13ms/step - loss: 0.1126 - val_loss: 0.1098\n",
      "Epoch 20/50\n",
      "235/235 [==============================] - 3s 12ms/step - loss: 0.1134 - val_loss: 0.1096\n",
      "Epoch 21/50\n",
      "235/235 [==============================] - 3s 13ms/step - loss: 0.1126 - val_loss: 0.1098\n",
      "Epoch 22/50\n",
      "235/235 [==============================] - 3s 13ms/step - loss: 0.1119 - val_loss: 0.1136\n",
      "Epoch 23/50\n",
      "235/235 [==============================] - 3s 13ms/step - loss: 0.1121 - val_loss: 0.1083\n",
      "Epoch 24/50\n",
      "235/235 [==============================] - 3s 13ms/step - loss: 0.1115 - val_loss: 0.1187\n",
      "Epoch 25/50\n",
      "235/235 [==============================] - 3s 13ms/step - loss: 0.1121 - val_loss: 0.1077\n",
      "Epoch 26/50\n",
      "235/235 [==============================] - 3s 13ms/step - loss: 0.1115 - val_loss: 0.1079\n",
      "Epoch 27/50\n",
      "235/235 [==============================] - 3s 13ms/step - loss: 0.1103 - val_loss: 0.1078\n",
      "Epoch 28/50\n",
      "235/235 [==============================] - 3s 13ms/step - loss: 0.1110 - val_loss: 0.1088\n",
      "Epoch 29/50\n",
      "235/235 [==============================] - 3s 13ms/step - loss: 0.1101 - val_loss: 0.1071\n",
      "Epoch 30/50\n",
      "235/235 [==============================] - 3s 13ms/step - loss: 0.1121 - val_loss: 0.1103\n",
      "Epoch 31/50\n",
      "235/235 [==============================] - 3s 13ms/step - loss: 0.1100 - val_loss: 0.1075\n",
      "Epoch 32/50\n",
      "235/235 [==============================] - 3s 13ms/step - loss: 0.1095 - val_loss: 0.1073\n",
      "Epoch 33/50\n",
      "235/235 [==============================] - 3s 13ms/step - loss: 0.1089 - val_loss: 0.1080\n",
      "Epoch 34/50\n",
      "235/235 [==============================] - 3s 13ms/step - loss: 0.1095 - val_loss: 0.1071\n",
      "Epoch 35/50\n",
      "235/235 [==============================] - 3s 13ms/step - loss: 0.1104 - val_loss: 0.1065\n",
      "Epoch 36/50\n",
      "235/235 [==============================] - 3s 13ms/step - loss: 0.1091 - val_loss: 0.1068\n",
      "Epoch 37/50\n",
      "235/235 [==============================] - 3s 13ms/step - loss: 0.1110 - val_loss: 0.1070\n",
      "Epoch 38/50\n",
      "235/235 [==============================] - 3s 13ms/step - loss: 0.1089 - val_loss: 0.1063\n",
      "Epoch 39/50\n",
      "235/235 [==============================] - 3s 13ms/step - loss: 0.1093 - val_loss: 0.1063\n",
      "Epoch 40/50\n",
      "235/235 [==============================] - 3s 13ms/step - loss: 0.1086 - val_loss: 0.1064\n",
      "Epoch 41/50\n",
      "235/235 [==============================] - 3s 13ms/step - loss: 0.1081 - val_loss: 0.1062\n",
      "Epoch 42/50\n",
      "235/235 [==============================] - 3s 12ms/step - loss: 0.1078 - val_loss: 0.1057\n",
      "Epoch 43/50\n",
      "235/235 [==============================] - 3s 13ms/step - loss: 0.1092 - val_loss: 0.1060\n",
      "Epoch 44/50\n",
      "235/235 [==============================] - 3s 13ms/step - loss: 0.1085 - val_loss: 0.1056\n",
      "Epoch 45/50\n",
      "235/235 [==============================] - 3s 13ms/step - loss: 0.1083 - val_loss: 0.1055\n",
      "Epoch 46/50\n",
      "235/235 [==============================] - 3s 13ms/step - loss: 0.1084 - val_loss: 0.1060\n",
      "Epoch 47/50\n",
      "235/235 [==============================] - 3s 13ms/step - loss: 0.1076 - val_loss: 0.1055\n",
      "Epoch 48/50\n",
      "235/235 [==============================] - 3s 13ms/step - loss: 0.1098 - val_loss: 0.1056\n",
      "Epoch 49/50\n",
      "235/235 [==============================] - 3s 13ms/step - loss: 0.1077 - val_loss: 0.1057\n",
      "Epoch 50/50\n",
      "235/235 [==============================] - 3s 13ms/step - loss: 0.1087 - val_loss: 0.1063\n"
     ]
    },
    {
     "data": {
      "text/plain": [
       "<tensorflow.python.keras.callbacks.History at 0x7f68759f2550>"
      ]
     },
     "execution_count": 21,
     "metadata": {},
     "output_type": "execute_result"
    }
   ],
   "source": [
    "attention_autoencoder.fit(x_train, x_train,  # the target is the same input data!\n",
    "                       epochs=50, \n",
    "                       batch_size=256, \n",
    "                       shuffle=True, \n",
    "                       validation_data=(x_test, x_test)) "
   ]
  },
  {
   "cell_type": "code",
   "execution_count": null,
   "metadata": {},
   "outputs": [],
   "source": [
    "####################################    visualizing output of attention autoancoder ###################################"
   ]
  },
  {
   "cell_type": "code",
   "execution_count": 22,
   "metadata": {},
   "outputs": [
    {
     "name": "stdout",
     "output_type": "stream",
     "text": [
      "(10000, 28, 28, 1)\n",
      "(28, 28)\n"
     ]
    },
    {
     "data": {
      "image/png": "[encoded data removed]",
      "text/plain": [
       "<Figure size 1440x288 with 20 Axes>"
      ]
     },
     "metadata": {
      "needs_background": "light"
     },
     "output_type": "display_data"
    }
   ],
   "source": [
    "import matplotlib.pyplot as plt\n",
    "\n",
    "# Predict digits\n",
    "decoded_imgs = attention_autoencoder.predict(x_test)\n",
    "print(decoded_imgs.shape)\n",
    "im = x_test[0].reshape(28, 28)\n",
    "print(im.shape)\n",
    "\n",
    "n = 10\n",
    "plt.figure(figsize=(20, 4))\n",
    "for i in range(n):\n",
    "    # display original\n",
    "    ax = plt.subplot(2, n, i+1)\n",
    "    plt.imshow(x_test[i].reshape(28, 28))\n",
    "    plt.gray()\n",
    "    ax.get_xaxis().set_visible(False)\n",
    "    ax.get_yaxis().set_visible(False)\n",
    "\n",
    "    # display reconstruction\n",
    "    ax = plt.subplot(2, n, i+1 + n)\n",
    "    plt.imshow(decoded_imgs[i].reshape(28, 28))\n",
    "    plt.gray()\n",
    "    ax.get_xaxis().set_visible(False)\n",
    "    ax.get_yaxis().set_visible(False)\n",
    "plt.show()\n"
   ]
  },
  {
   "cell_type": "code",
   "execution_count": null,
   "metadata": {},
   "outputs": [],
   "source": [
    "####################################    visualizing attention layer ###################################"
   ]
  },
  {
   "cell_type": "code",
   "execution_count": 28,
   "metadata": {},
   "outputs": [
    {
     "name": "stdout",
     "output_type": "stream",
     "text": [
      "(10000, 28, 28)\n"
     ]
    }
   ],
   "source": [
    "# To visualize attention output\n",
    "\n",
    "model = attention_autoencoder\n",
    "layer_name = 'attention'\n",
    "intermediate_layer_model = Model(inputs=model.input,\n",
    "                                 outputs=model.get_layer(layer_name).output)\n",
    "intermediate_output = intermediate_layer_model.predict(x_test)\n",
    "\n",
    "attention_output = np.mean(intermediate_output, axis = 3)\n",
    "print(attention_output.shape)"
   ]
  },
  {
   "cell_type": "code",
   "execution_count": 29,
   "metadata": {},
   "outputs": [
    {
     "data": {
      "image/png": "[encoded data removed]",
      "text/plain": [
       "<Figure size 1440x288 with 20 Axes>"
      ]
     },
     "metadata": {
      "needs_background": "light"
     },
     "output_type": "display_data"
    }
   ],
   "source": [
    "n = 10\n",
    "plt.figure(figsize=(20, 4))\n",
    "for i in range(n):\n",
    "    # display original\n",
    "    ax = plt.subplot(2, n, i+1)\n",
    "    plt.imshow(x_test[i].reshape(28, 28))\n",
    "    plt.gray()\n",
    "    ax.get_xaxis().set_visible(False)\n",
    "    ax.get_yaxis().set_visible(False)\n",
    "\n",
    "    # display reconstruction\n",
    "    ax = plt.subplot(2, n, i+1 + n)\n",
    "    plt.imshow(attention_output[i])\n",
    "    plt.gray()\n",
    "    ax.get_xaxis().set_visible(False)\n",
    "    ax.get_yaxis().set_visible(False)\n",
    "plt.show()"
   ]
  },
  {
   "cell_type": "code",
   "execution_count": null,
   "metadata": {},
   "outputs": [],
   "source": []
  }
 ],
 "metadata": {
  "kernelspec": {
   "display_name": "Python 3",
   "language": "python",
   "name": "python3"
  },
  "language_info": {
   "codemirror_mode": {
    "name": "ipython",
    "version": 3
   },
   "file_extension": ".py",
   "mimetype": "text/x-python",
   "name": "python",
   "nbconvert_exporter": "python",
   "pygments_lexer": "ipython3",
   "version": "3.6.10"
  }
 },
 "nbformat": 4,
 "nbformat_minor": 4
}
