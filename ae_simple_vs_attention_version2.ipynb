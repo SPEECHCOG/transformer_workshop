{
 "cells": [
  {
   "cell_type": "markdown",
   "metadata": {},
   "source": [
    "From (https://blog.keras.io/building-autoencoders-in-keras.html) By [Francois Chollet](https://twitter.com/fchollet)\n",
    "# Autoencoders\n",
    "\n",
    "\n",
    "![autoencoder](https://www.compthree.com/images/blog/ae/ae.png)\n",
    "\n",
    "Usually, they are used for extracting latent representations with a lower dimensionality than the input data -> data compression \n",
    "\n",
    "## Case: MNIST handwritten digits\n",
    "\n",
    "### Dataset: \n",
    "\n",
    "Train images: 60,000\n",
    "\n",
    "Test images: 10,000\n",
    "\n",
    "Image size: 28x28 pixels\n",
    "\n",
    "![dataset](https://www.researchgate.net/profile/Steven_Young11/publication/306056875/figure/fig1/AS:393921575309346@1470929630835/Example-images-from-the-MNIST-dataset_W640.jpg)\n",
    "![image of a digit](https://3qeqpr26caki16dnhd19sv6by6v-wpengine.netdna-ssl.com/wp-content/uploads/2016/05/Examples-from-the-MNIST-dataset.png)\n",
    "\n",
    "\n"
   ]
  },
  {
   "cell_type": "markdown",
   "metadata": {},
   "source": [
    "### Simplest autoencoder\n",
    "We will use a single fully-connected neural for our encoder and decoder.\n",
    "\n",
    "Elements:\n",
    "\n",
    "Input Layer\n",
    "\n",
    "* Input layer: $y = xI$\n",
    "\n",
    "Encoder\n",
    "\n",
    "* Fully-connected layer: $y = xA^T + b$\n",
    "* Rectified Linear Unit function: $ReLu(x)=max(0, x)$ (encoder)\n",
    "\n",
    "Decoder\n",
    "\n",
    "* Fully-connected layer: $y = xW^T + b$\n",
    "* Sigmoid function: $Sigmoid(x) = \\sigma(x) = \\frac{1}{1+exp(-x)}$ (decoder)\n",
    "\n",
    "![autoencoder for MNIST](https://blog.keras.io/img/ae/autoencoder_schema.jpg)"
   ]
  },
  {
   "cell_type": "code",
   "execution_count": 1,
   "metadata": {},
   "outputs": [
    {
     "name": "stderr",
     "output_type": "stream",
     "text": [
      "Using TensorFlow backend.\n"
     ]
    },
    {
     "name": "stdout",
     "output_type": "stream",
     "text": [
      "[5 0 4 ... 5 6 8]\n",
      "(60000, 28, 28)\n",
      "(10000, 28, 28)\n",
      "784\n",
      "(28, 28, 1)\n"
     ]
    }
   ],
   "source": [
    "from keras.datasets import mnist\n",
    "import numpy as np\n",
    "\n",
    "(x_train, y_train), (x_test, y_test) = mnist.load_data()\n",
    "\n",
    "# labels\n",
    "print(y_train)\n",
    "\n",
    "# data\n",
    "print(x_train.shape)\n",
    "print(x_test.shape)\n",
    "\n",
    "x_train = x_train.astype('float32') / 255 # 255 max rgb value\n",
    "x_test = x_test.astype('float32') / 255\n",
    "\n",
    "#x_train = x_train.reshape(len(x_train), np.prod(x_train.shape[1:]))\n",
    "#x_test = x_test.reshape(len(x_test), np.prod(x_test.shape[1:]))\n",
    "\n",
    "x_train = x_train.reshape(len(x_train), 28,28,1)\n",
    "x_test = x_test.reshape(len(x_test), 28,28,1)\n",
    "\n",
    "number_of_pixels = np.prod(x_train.shape[1:])\n",
    "\n",
    "print(number_of_pixels)\n",
    "input_dim = x_train.shape[1:]\n",
    "\n",
    "print(input_dim)"
   ]
  },
  {
   "cell_type": "code",
   "execution_count": 2,
   "metadata": {},
   "outputs": [
    {
     "name": "stdout",
     "output_type": "stream",
     "text": [
      "(None, 28, 28, 1)\n",
      "...encoder.....\n",
      "(None, 28, 28, 16)\n",
      "(None, 7, 7, 16)\n",
      "(7, 7, 16)\n",
      "...decoder.....\n",
      "(None, 7, 7, 16)\n",
      "(None, 28, 28, 16)\n",
      "(None, 28, 28, 1)\n"
     ]
    }
   ],
   "source": [
    "import tensorflow as tf\n",
    "from tensorflow.keras.layers import Input, Dense, Conv2D , MaxPooling2D, Reshape, UpSampling2D,Attention\n",
    "from tensorflow.keras.layers import Attention, GlobalAveragePooling2D, Concatenate\n",
    "from tensorflow.keras.models import Model # (template for architecture)\n",
    "\n",
    "# latent representations dimension\n",
    "\n",
    "# input layer\n",
    "input_img = Input(shape=input_dim)\n",
    "\n",
    "print(input_img.shape)\n",
    "# encoder\n",
    "print('...encoder.....')\n",
    "\n",
    "conv1_layer = Conv2D(16, (3, 3), activation='relu', padding='same')\n",
    "conv1_output = conv1_layer(input_img)\n",
    "\n",
    "print(conv1_output.shape)\n",
    "\n",
    "pool1_layer = MaxPooling2D((4, 4), padding='same')\n",
    "pool1_output = pool1_layer (conv1_output)\n",
    "\n",
    "print(pool1_output.shape)\n",
    "\n",
    "#conv2_layer = Conv2D(32, (3, 3), activation='relu', padding='same')\n",
    "#conv2_output = conv2_layer(pool1_output)\n",
    "\n",
    "#print(conv2_output.shape)\n",
    "\n",
    "#encoded =  MaxPooling2D((2, 2), padding='same')(conv2_output)\n",
    "\n",
    "encoded = pool1_output\n",
    "\n",
    "latent_dim = encoded.shape[1:]\n",
    "print(latent_dim)\n",
    "#........................................................................\n",
    "\n",
    "print('...decoder.....')\n",
    "conv1_decoder_layer = Conv2D(16, (3, 3), activation='relu', padding='same')\n",
    "conv1_decoder_output = conv1_decoder_layer(encoded)\n",
    "print(conv1_decoder_output.shape)\n",
    "\n",
    "pool1_decoder = UpSampling2D((4, 4))\n",
    "upsample1_decoder_out  = pool1_decoder(conv1_decoder_output)\n",
    "print(upsample1_decoder_out.shape)\n",
    "\n",
    "\n",
    "conv2_decoder_layer = Conv2D(1, (3, 3), activation='relu', padding='same')\n",
    "conv2_decoder_output = conv2_decoder_layer(upsample1_decoder_out)\n",
    "print(conv2_decoder_output.shape)\n",
    "\n",
    "#pool2_decoder =  UpSampling2D((2, 2))\n",
    "#upsample2_decoder_out  = pool2_decoder(conv2_decoder_output)\n",
    "#print(upsample2_decoder_out.shape)\n",
    "\n",
    "#conv3_decoder_layer = Conv2D(1, (3, 3), activation='sigmoid', padding='same')\n",
    "#decoded = conv3_decoder_layer (upsample2_decoder_out)\n",
    "#print(decoded.shape)\n",
    "\n",
    "decoded = conv2_decoder_output"
   ]
  },
  {
   "cell_type": "code",
   "execution_count": 3,
   "metadata": {},
   "outputs": [
    {
     "name": "stdout",
     "output_type": "stream",
     "text": [
      "Model: \"model\"\n",
      "_________________________________________________________________\n",
      "Layer (type)                 Output Shape              Param #   \n",
      "=================================================================\n",
      "input_1 (InputLayer)         [(None, 28, 28, 1)]       0         \n",
      "_________________________________________________________________\n",
      "conv2d (Conv2D)              (None, 28, 28, 16)        160       \n",
      "_________________________________________________________________\n",
      "max_pooling2d (MaxPooling2D) (None, 7, 7, 16)          0         \n",
      "_________________________________________________________________\n",
      "conv2d_1 (Conv2D)            (None, 7, 7, 16)          2320      \n",
      "_________________________________________________________________\n",
      "up_sampling2d (UpSampling2D) (None, 28, 28, 16)        0         \n",
      "_________________________________________________________________\n",
      "conv2d_2 (Conv2D)            (None, 28, 28, 1)         145       \n",
      "=================================================================\n",
      "Total params: 2,625\n",
      "Trainable params: 2,625\n",
      "Non-trainable params: 0\n",
      "_________________________________________________________________\n",
      "None\n"
     ]
    }
   ],
   "source": [
    "\n",
    "simple_autoencoder = Model(input_img, decoded)\n",
    "print(simple_autoencoder.summary())"
   ]
  },
  {
   "cell_type": "code",
   "execution_count": 4,
   "metadata": {},
   "outputs": [],
   "source": [
    "from tensorflow.keras.optimizers import Adadelta\n",
    "simple_autoencoder.compile(optimizer=Adadelta(learning_rate=1.0), loss='binary_crossentropy')"
   ]
  },
  {
   "cell_type": "markdown",
   "metadata": {},
   "source": [
    "Before training the model, we need to set up the loss function and optimizer.\n",
    "\n",
    "Loss function per-pixel crossentropy loss\n",
    "\n",
    "$y' = p(y)$\n",
    "\n",
    "$loss = -[y * log(y' + \\epsilon) + (1-y) * log(1-y' + \\epsilon)]$\n"
   ]
  },
  {
   "cell_type": "code",
   "execution_count": 5,
   "metadata": {},
   "outputs": [
    {
     "name": "stdout",
     "output_type": "stream",
     "text": [
      "(None, 28, 28, 1)\n",
      "(None, 7, 7, 16)\n",
      "(None, 28, 28, 1)\n",
      "Model: \"model_1\"\n",
      "_________________________________________________________________\n",
      "Layer (type)                 Output Shape              Param #   \n",
      "=================================================================\n",
      "input_1 (InputLayer)         [(None, 28, 28, 1)]       0         \n",
      "_________________________________________________________________\n",
      "conv2d (Conv2D)              (None, 28, 28, 16)        160       \n",
      "_________________________________________________________________\n",
      "max_pooling2d (MaxPooling2D) (None, 7, 7, 16)          0         \n",
      "=================================================================\n",
      "Total params: 160\n",
      "Trainable params: 160\n",
      "Non-trainable params: 0\n",
      "_________________________________________________________________\n",
      "None\n"
     ]
    }
   ],
   "source": [
    "print(input_img.shape)\n",
    "print(encoded.shape)\n",
    "print(decoded.shape)\n",
    "\n",
    "\n",
    "encoder_model = Model(input_img, encoded)\n",
    "print(encoder_model.summary())\n",
    "\n"
   ]
  },
  {
   "cell_type": "code",
   "execution_count": 6,
   "metadata": {},
   "outputs": [],
   "source": [
    "encoded_input = Input(shape=encoded.shape)\n",
    "\n",
    "# retrieve the last layer of the autoencoder model\n",
    "#decoder_layer = autoencoder.layers[-1]\n",
    "# create the decoder model\n",
    "#decoder = Model(encoded_input, decoder_layer(encoded_input))"
   ]
  },
  {
   "cell_type": "code",
   "execution_count": 7,
   "metadata": {},
   "outputs": [
    {
     "name": "stdout",
     "output_type": "stream",
     "text": [
      "Train on 60000 samples, validate on 10000 samples\n",
      "Epoch 1/20\n",
      "60000/60000 [==============================] - 36s 597us/sample - loss: 0.1942 - val_loss: 0.1407\n",
      "Epoch 2/20\n",
      "60000/60000 [==============================] - 35s 590us/sample - loss: 0.1374 - val_loss: 0.1300\n",
      "Epoch 3/20\n",
      "60000/60000 [==============================] - 36s 602us/sample - loss: 0.1312 - val_loss: 0.1244\n",
      "Epoch 4/20\n",
      "60000/60000 [==============================] - 38s 638us/sample - loss: 0.1280 - val_loss: 0.1219\n",
      "Epoch 5/20\n",
      "60000/60000 [==============================] - 35s 579us/sample - loss: 0.1241 - val_loss: 0.1204\n",
      "Epoch 6/20\n",
      "60000/60000 [==============================] - 37s 614us/sample - loss: 0.1223 - val_loss: 0.1193\n",
      "Epoch 7/20\n",
      "60000/60000 [==============================] - 35s 588us/sample - loss: 0.1231 - val_loss: 0.1179\n",
      "Epoch 8/20\n",
      "60000/60000 [==============================] - 39s 648us/sample - loss: 0.1199 - val_loss: 0.1545\n",
      "Epoch 9/20\n",
      "60000/60000 [==============================] - 37s 618us/sample - loss: 0.1191 - val_loss: 0.1217\n",
      "Epoch 10/20\n",
      "60000/60000 [==============================] - 34s 573us/sample - loss: 0.1184 - val_loss: 0.1151\n",
      "Epoch 11/20\n",
      "60000/60000 [==============================] - 37s 610us/sample - loss: 0.1179 - val_loss: 0.1142\n",
      "Epoch 12/20\n",
      "60000/60000 [==============================] - 34s 572us/sample - loss: 0.1171 - val_loss: 0.1136\n",
      "Epoch 13/20\n",
      "60000/60000 [==============================] - 37s 612us/sample - loss: 0.1160 - val_loss: 0.1132\n",
      "Epoch 14/20\n",
      "60000/60000 [==============================] - 33s 550us/sample - loss: 0.1152 - val_loss: 0.1126\n",
      "Epoch 15/20\n",
      "60000/60000 [==============================] - 38s 641us/sample - loss: 0.1153 - val_loss: 0.1123\n",
      "Epoch 16/20\n",
      "60000/60000 [==============================] - 34s 570us/sample - loss: 0.1144 - val_loss: 0.1126\n",
      "Epoch 17/20\n",
      "60000/60000 [==============================] - 30s 506us/sample - loss: 0.1181 - val_loss: 0.1120\n",
      "Epoch 18/20\n",
      "60000/60000 [==============================] - 36s 607us/sample - loss: 0.1156 - val_loss: 0.1117\n",
      "Epoch 19/20\n",
      "60000/60000 [==============================] - 34s 566us/sample - loss: 0.1139 - val_loss: 0.1110\n",
      "Epoch 20/20\n",
      "60000/60000 [==============================] - 36s 608us/sample - loss: 0.1142 - val_loss: 0.1240\n"
     ]
    },
    {
     "data": {
      "text/plain": [
       "<tensorflow.python.keras.callbacks.History at 0x7fc7703795c0>"
      ]
     },
     "execution_count": 7,
     "metadata": {},
     "output_type": "execute_result"
    }
   ],
   "source": [
    "# Train model\n",
    "simple_autoencoder.fit(x_train, x_train,  # the target is the same input data!\n",
    "                       epochs=20, \n",
    "                       batch_size=256, \n",
    "                       shuffle=True, \n",
    "                       validation_data=(x_test, x_test)) "
   ]
  },
  {
   "cell_type": "code",
   "execution_count": 8,
   "metadata": {},
   "outputs": [],
   "source": [
    "import matplotlib.pyplot as plt\n",
    "\n",
    "def see_images(dataset, n):\n",
    "    plt.figure(figsize=(20, 4))\n",
    "    for i in range(n):\n",
    "        ax = plt.subplot(2, n, i + 1)\n",
    "        plt.imshow(dataset[i].reshape(28,28))\n",
    "        plt.gray()\n",
    "        ax.get_xaxis().set_visible(False)\n",
    "        ax.get_yaxis().set_visible(False)\n",
    "    plt.show()"
   ]
  },
  {
   "cell_type": "code",
   "execution_count": 9,
   "metadata": {},
   "outputs": [
    {
     "name": "stdout",
     "output_type": "stream",
     "text": [
      "(10000, 28, 28, 1)\n",
      "(28, 28)\n",
      "(28, 28)\n"
     ]
    },
    {
     "data": {
      "image/png": "[encoded data removed]",
      "text/plain": [
       "<Figure size 1440x288 with 20 Axes>"
      ]
     },
     "metadata": {
      "needs_background": "light"
     },
     "output_type": "display_data"
    }
   ],
   "source": [
    "# Predict digits\n",
    "decoded_imgs = simple_autoencoder.predict(x_test)\n",
    "print(decoded_imgs.shape)\n",
    "\n",
    "im = x_test[0].reshape(28, 28)\n",
    "print(im.shape)\n",
    "\n",
    "im = decoded_imgs[0].reshape(28, 28)\n",
    "print(im.shape)\n",
    "\n",
    "n = 10\n",
    "plt.figure(figsize=(20, 4))\n",
    "for i in range(n):\n",
    "    # display original\n",
    "    ax = plt.subplot(2, n, i+1)\n",
    "    plt.imshow(x_test[i].reshape(28, 28))\n",
    "    plt.gray()\n",
    "    ax.get_xaxis().set_visible(False)\n",
    "    ax.get_yaxis().set_visible(False)\n",
    "\n",
    "    # display reconstruction\n",
    "    ax = plt.subplot(2, n, i+1 + n)\n",
    "    plt.imshow(decoded_imgs[i].reshape(28, 28))\n",
    "    plt.gray()\n",
    "    ax.get_xaxis().set_visible(False)\n",
    "    ax.get_yaxis().set_visible(False)\n",
    "plt.show()\n"
   ]
  },
  {
   "cell_type": "code",
   "execution_count": 10,
   "metadata": {},
   "outputs": [],
   "source": [
    "\n",
    "\n",
    "############### ATTENTION ###############################\n",
    "\n",
    "\n",
    "\n"
   ]
  },
  {
   "cell_type": "code",
   "execution_count": 11,
   "metadata": {},
   "outputs": [
    {
     "name": "stdout",
     "output_type": "stream",
     "text": [
      "[5 0 4 ... 5 6 8]\n",
      "(60000, 28, 28)\n",
      "(10000, 28, 28)\n",
      "784\n",
      "(28, 28, 1)\n"
     ]
    }
   ],
   "source": [
    "from keras.datasets import mnist\n",
    "import numpy as np\n",
    "\n",
    "(x_train, y_train), (x_test, y_test) = mnist.load_data()\n",
    "\n",
    "# labels\n",
    "print(y_train)\n",
    "\n",
    "# data\n",
    "print(x_train.shape)\n",
    "print(x_test.shape)\n",
    "\n",
    "x_train = x_train.astype('float32') / 255 # 255 max rgb value\n",
    "x_test = x_test.astype('float32') / 255\n",
    "\n",
    "#x_train = x_train.reshape(len(x_train), np.prod(x_train.shape[1:]))\n",
    "#x_test = x_test.reshape(len(x_test), np.prod(x_test.shape[1:]))\n",
    "\n",
    "x_train = x_train.reshape(len(x_train), 28,28,1)\n",
    "x_test = x_test.reshape(len(x_test), 28,28,1)\n",
    "\n",
    "number_of_pixels = np.prod(x_train.shape[1:])\n",
    "\n",
    "print(number_of_pixels)\n",
    "input_dim = x_train.shape[1:]\n",
    "\n",
    "print(input_dim)"
   ]
  },
  {
   "cell_type": "code",
   "execution_count": 12,
   "metadata": {},
   "outputs": [
    {
     "name": "stdout",
     "output_type": "stream",
     "text": [
      "(None, 28, 28, 1)\n",
      "...encoder.....\n",
      "(None, 28, 28, 16)\n"
     ]
    }
   ],
   "source": [
    "import tensorflow as tf\n",
    "from tensorflow.keras.layers import Input, Dense, Conv2D , MaxPooling2D, Reshape, UpSampling2D,Attention\n",
    "from tensorflow.keras.layers import Attention, GlobalAveragePooling2D, Concatenate\n",
    "from tensorflow.keras.models import Model # (template for architecture)\n",
    "\n",
    "# latent representations dimension\n",
    "\n",
    "# input layer\n",
    "input_img = Input(shape=input_dim)\n",
    "\n",
    "print(input_img.shape)\n",
    "# encoder\n",
    "print('...encoder.....')\n",
    "\n",
    "conv1_layer = Conv2D(16, (3, 3), activation='relu', padding='same')\n",
    "conv1_output = conv1_layer(input_img)\n",
    "\n",
    "print(conv1_output.shape)"
   ]
  },
  {
   "cell_type": "code",
   "execution_count": 13,
   "metadata": {},
   "outputs": [
    {
     "name": "stdout",
     "output_type": "stream",
     "text": [
      ".................ATTENTION ...........................\n",
      "attention output shapeTensor(\"attention/Identity:0\", shape=(None, 28, 28, 16), dtype=float32)\n",
      "final_out_attentioTensor(\"concatenate/Identity:0\", shape=(None, 28, 28, 32), dtype=float32)\n"
     ]
    }
   ],
   "source": [
    "\n",
    "############################################### Attention block\n",
    "print ('.................ATTENTION ...........................')\n",
    "\n",
    "query = conv1_output\n",
    "value = conv1_output\n",
    "\n",
    "query_value_attention = Attention()([query, value])\n",
    "\n",
    "print('attention output shape' + str(query_value_attention))\n",
    "\n",
    "#Concatenate query and document encodings to produce a DNN input layer.\n",
    "final_out_attention = Concatenate(axis=-1)([query, query_value_attention])\n",
    "\n",
    "#query_pooled = GlobalAveragePooling2D()(query)\n",
    "#query_value_attention_pooled = GlobalAveragePooling2D()(query_value_attention)\n",
    "\n",
    "#print('image_encoded after pooling shape' + str(query_pooled))\n",
    "#print('attention output after pooling shape' + str(query_value_attention_pooled))\n",
    "\n",
    "# Concatenate query and document encodings to produce a DNN input layer.\n",
    "#final_out_attention = Concatenate(axis=0)([query_pooled, query_value_attention_pooled])\n",
    "\n",
    "\n",
    "print('final_out_attentio' + str(final_out_attention))\n",
    "##############################################\n",
    "\n",
    "\n"
   ]
  },
  {
   "cell_type": "code",
   "execution_count": 14,
   "metadata": {},
   "outputs": [
    {
     "name": "stdout",
     "output_type": "stream",
     "text": [
      "(None, 7, 7, 32)\n",
      "(7, 7, 32)\n"
     ]
    }
   ],
   "source": [
    "\n",
    "\n",
    "pool1_layer = MaxPooling2D((4, 4), padding='same')\n",
    "pool1_output = pool1_layer (final_out_attention)\n",
    "\n",
    "print(pool1_output.shape)\n",
    "\n",
    "#conv2_layer = Conv2D(32, (3, 3), activation='relu', padding='same')\n",
    "#conv2_output = conv2_layer(pool1_output)\n",
    "\n",
    "#print(conv2_output.shape)\n",
    "\n",
    "#encoded =  MaxPooling2D((2, 2), padding='same')(conv2_output)\n",
    "\n",
    "encoded = pool1_output\n",
    "\n",
    "latent_dim = encoded.shape[1:]\n",
    "print(latent_dim)"
   ]
  },
  {
   "cell_type": "code",
   "execution_count": 15,
   "metadata": {},
   "outputs": [
    {
     "name": "stdout",
     "output_type": "stream",
     "text": [
      "...decoder.....\n",
      "(None, 7, 7, 16)\n",
      "(None, 28, 28, 16)\n",
      "(None, 28, 28, 1)\n"
     ]
    }
   ],
   "source": [
    "\n",
    "#........................................................................\n",
    "\n",
    "print('...decoder.....')\n",
    "conv1_decoder_layer = Conv2D(16, (3, 3), activation='relu', padding='same')\n",
    "conv1_decoder_output = conv1_decoder_layer(encoded)\n",
    "print(conv1_decoder_output.shape)\n",
    "\n",
    "pool1_decoder = UpSampling2D((4, 4))\n",
    "upsample1_decoder_out  = pool1_decoder(conv1_decoder_output)\n",
    "print(upsample1_decoder_out.shape)\n",
    "\n",
    "\n",
    "conv2_decoder_layer = Conv2D(1, (3, 3), activation='relu', padding='same')\n",
    "conv2_decoder_output = conv2_decoder_layer(upsample1_decoder_out)\n",
    "print(conv2_decoder_output.shape)\n",
    "\n",
    "#pool2_decoder =  UpSampling2D((2, 2))\n",
    "#upsample2_decoder_out  = pool2_decoder(conv2_decoder_output)\n",
    "#print(upsample2_decoder_out.shape)\n",
    "\n",
    "#conv3_decoder_layer = Conv2D(1, (3, 3), activation='sigmoid', padding='same')\n",
    "#decoded = conv3_decoder_layer (upsample2_decoder_out)\n",
    "#print(decoded.shape)\n",
    "\n",
    "decoded = conv2_decoder_output"
   ]
  },
  {
   "cell_type": "code",
   "execution_count": 16,
   "metadata": {},
   "outputs": [
    {
     "name": "stdout",
     "output_type": "stream",
     "text": [
      "Model: \"model_2\"\n",
      "__________________________________________________________________________________________________\n",
      "Layer (type)                    Output Shape         Param #     Connected to                     \n",
      "==================================================================================================\n",
      "input_3 (InputLayer)            [(None, 28, 28, 1)]  0                                            \n",
      "__________________________________________________________________________________________________\n",
      "conv2d_3 (Conv2D)               (None, 28, 28, 16)   160         input_3[0][0]                    \n",
      "__________________________________________________________________________________________________\n",
      "attention (Attention)           (None, 28, 28, 16)   0           conv2d_3[0][0]                   \n",
      "                                                                 conv2d_3[0][0]                   \n",
      "__________________________________________________________________________________________________\n",
      "concatenate (Concatenate)       (None, 28, 28, 32)   0           conv2d_3[0][0]                   \n",
      "                                                                 attention[0][0]                  \n",
      "__________________________________________________________________________________________________\n",
      "max_pooling2d_1 (MaxPooling2D)  (None, 7, 7, 32)     0           concatenate[0][0]                \n",
      "__________________________________________________________________________________________________\n",
      "conv2d_4 (Conv2D)               (None, 7, 7, 16)     4624        max_pooling2d_1[0][0]            \n",
      "__________________________________________________________________________________________________\n",
      "up_sampling2d_1 (UpSampling2D)  (None, 28, 28, 16)   0           conv2d_4[0][0]                   \n",
      "__________________________________________________________________________________________________\n",
      "conv2d_5 (Conv2D)               (None, 28, 28, 1)    145         up_sampling2d_1[0][0]            \n",
      "==================================================================================================\n",
      "Total params: 4,929\n",
      "Trainable params: 4,929\n",
      "Non-trainable params: 0\n",
      "__________________________________________________________________________________________________\n",
      "None\n"
     ]
    }
   ],
   "source": [
    "attention_autoencoder = Model(input_img, decoded)\n",
    "print(attention_autoencoder.summary())"
   ]
  },
  {
   "cell_type": "code",
   "execution_count": 17,
   "metadata": {},
   "outputs": [],
   "source": [
    "from tensorflow.keras.optimizers import Adadelta\n",
    "attention_autoencoder.compile(optimizer=Adadelta(learning_rate=1.0), loss='binary_crossentropy')"
   ]
  },
  {
   "cell_type": "code",
   "execution_count": 18,
   "metadata": {},
   "outputs": [
    {
     "name": "stdout",
     "output_type": "stream",
     "text": [
      "(None, 28, 28, 1)\n",
      "(None, 7, 7, 32)\n",
      "(None, 28, 28, 1)\n",
      "Model: \"model_3\"\n",
      "__________________________________________________________________________________________________\n",
      "Layer (type)                    Output Shape         Param #     Connected to                     \n",
      "==================================================================================================\n",
      "input_3 (InputLayer)            [(None, 28, 28, 1)]  0                                            \n",
      "__________________________________________________________________________________________________\n",
      "conv2d_3 (Conv2D)               (None, 28, 28, 16)   160         input_3[0][0]                    \n",
      "__________________________________________________________________________________________________\n",
      "attention (Attention)           (None, 28, 28, 16)   0           conv2d_3[0][0]                   \n",
      "                                                                 conv2d_3[0][0]                   \n",
      "__________________________________________________________________________________________________\n",
      "concatenate (Concatenate)       (None, 28, 28, 32)   0           conv2d_3[0][0]                   \n",
      "                                                                 attention[0][0]                  \n",
      "__________________________________________________________________________________________________\n",
      "max_pooling2d_1 (MaxPooling2D)  (None, 7, 7, 32)     0           concatenate[0][0]                \n",
      "==================================================================================================\n",
      "Total params: 160\n",
      "Trainable params: 160\n",
      "Non-trainable params: 0\n",
      "__________________________________________________________________________________________________\n",
      "None\n"
     ]
    }
   ],
   "source": [
    "print(input_img.shape)\n",
    "print(encoded.shape)\n",
    "print(decoded.shape)\n",
    "\n",
    "\n",
    "encoder_model = Model(input_img, encoded)\n",
    "print(encoder_model.summary())\n"
   ]
  },
  {
   "cell_type": "code",
   "execution_count": 19,
   "metadata": {},
   "outputs": [],
   "source": [
    "encoded_input = Input(shape=encoded.shape)\n",
    "\n",
    "# retrieve the last layer of the autoencoder model\n",
    "#decoder_layer = autoencoder.layers[-1]\n",
    "# create the decoder model\n",
    "#decoder = Model(encoded_input, decoder_layer(encoded_input))"
   ]
  },
  {
   "cell_type": "code",
   "execution_count": 20,
   "metadata": {},
   "outputs": [
    {
     "name": "stdout",
     "output_type": "stream",
     "text": [
      "Train on 60000 samples, validate on 10000 samples\n",
      "Epoch 1/20\n",
      "60000/60000 [==============================] - 59s 982us/sample - loss: 0.1797 - val_loss: 0.1480\n",
      "Epoch 2/20\n",
      "60000/60000 [==============================] - 63s 1ms/sample - loss: 0.1485 - val_loss: 0.1376\n",
      "Epoch 3/20\n",
      "60000/60000 [==============================] - 64s 1ms/sample - loss: 0.1395 - val_loss: 0.1312\n",
      "Epoch 4/20\n",
      "60000/60000 [==============================] - 61s 1ms/sample - loss: 0.1327 - val_loss: 0.1282\n",
      "Epoch 5/20\n",
      "60000/60000 [==============================] - 64s 1ms/sample - loss: 0.1290 - val_loss: 0.1339\n",
      "Epoch 6/20\n",
      "60000/60000 [==============================] - 62s 1ms/sample - loss: 0.1265 - val_loss: 0.1212\n",
      "Epoch 7/20\n",
      "60000/60000 [==============================] - 59s 981us/sample - loss: 0.1262 - val_loss: 0.1216\n",
      "Epoch 8/20\n",
      "60000/60000 [==============================] - 73s 1ms/sample - loss: 0.1230 - val_loss: 0.1186\n",
      "Epoch 9/20\n",
      "60000/60000 [==============================] - 67s 1ms/sample - loss: 0.1228 - val_loss: 0.1178\n",
      "Epoch 10/20\n",
      "60000/60000 [==============================] - 67s 1ms/sample - loss: 0.1212 - val_loss: 0.1257\n",
      "Epoch 11/20\n",
      "60000/60000 [==============================] - 68s 1ms/sample - loss: 0.1218 - val_loss: 0.1166\n",
      "Epoch 12/20\n",
      "60000/60000 [==============================] - 62s 1ms/sample - loss: 0.1204 - val_loss: 0.1232\n",
      "Epoch 13/20\n",
      "60000/60000 [==============================] - 61s 1ms/sample - loss: 0.1192 - val_loss: 0.1145\n",
      "Epoch 14/20\n",
      "60000/60000 [==============================] - 62s 1ms/sample - loss: 0.1176 - val_loss: 0.1161\n",
      "Epoch 15/20\n",
      "60000/60000 [==============================] - 60s 1ms/sample - loss: 0.1181 - val_loss: 0.1135\n",
      "Epoch 16/20\n",
      "60000/60000 [==============================] - 60s 997us/sample - loss: 0.1173 - val_loss: 0.1137\n",
      "Epoch 17/20\n",
      "60000/60000 [==============================] - 62s 1ms/sample - loss: 0.1155 - val_loss: 0.1128\n",
      "Epoch 18/20\n",
      "60000/60000 [==============================] - 61s 1ms/sample - loss: 0.1179 - val_loss: 0.1130\n",
      "Epoch 19/20\n",
      "60000/60000 [==============================] - 62s 1ms/sample - loss: 0.1159 - val_loss: 0.1122\n",
      "Epoch 20/20\n",
      "60000/60000 [==============================] - 65s 1ms/sample - loss: 0.1174 - val_loss: 0.1132\n"
     ]
    },
    {
     "data": {
      "text/plain": [
       "<tensorflow.python.keras.callbacks.History at 0x7fc7824b4ba8>"
      ]
     },
     "execution_count": 20,
     "metadata": {},
     "output_type": "execute_result"
    }
   ],
   "source": [
    "attention_autoencoder.fit(x_train, x_train,  # the target is the same input data!\n",
    "                       epochs=20, \n",
    "                       batch_size=256, \n",
    "                       shuffle=True, \n",
    "                       validation_data=(x_test, x_test)) "
   ]
  },
  {
   "cell_type": "code",
   "execution_count": 21,
   "metadata": {},
   "outputs": [
    {
     "name": "stdout",
     "output_type": "stream",
     "text": [
      "(10000, 28, 28, 1)\n",
      "(28, 28)\n",
      "(28, 28)\n"
     ]
    },
    {
     "data": {
      "image/png": "[encoded data removed]",
      "text/plain": [
       "<Figure size 1440x288 with 20 Axes>"
      ]
     },
     "metadata": {
      "needs_background": "light"
     },
     "output_type": "display_data"
    }
   ],
   "source": [
    "# Predict digits\n",
    "decoded_imgs = attention_autoencoder.predict(x_test)\n",
    "print(decoded_imgs.shape)\n",
    "im = x_test[0].reshape(28, 28)\n",
    "print(im.shape)\n",
    "\n",
    "im = decoded_imgs[i].reshape(28, 28)\n",
    "print(im.shape)\n",
    "n = 10\n",
    "plt.figure(figsize=(20, 4))\n",
    "for i in range(n):\n",
    "    # display original\n",
    "    ax = plt.subplot(2, n, i+1)\n",
    "    plt.imshow(x_test[i].reshape(28, 28))\n",
    "    plt.gray()\n",
    "    ax.get_xaxis().set_visible(False)\n",
    "    ax.get_yaxis().set_visible(False)\n",
    "\n",
    "    # display reconstruction\n",
    "    ax = plt.subplot(2, n, i+1 + n)\n",
    "    plt.imshow(decoded_imgs[i].reshape(28, 28))\n",
    "    plt.gray()\n",
    "    ax.get_xaxis().set_visible(False)\n",
    "    ax.get_yaxis().set_visible(False)\n",
    "plt.show()\n"
   ]
  },
  {
   "cell_type": "markdown",
   "metadata": {},
   "source": [
    "\n",
    "\n",
    "\n",
    "\n",
    "\n",
    "\n",
    "\n",
    "\n",
    "\n",
    "\n",
    "\n",
    "\n",
    "\n",
    "\n",
    "New model: Autoencoder + Attention\n",
    "\n",
    "\n",
    "\n",
    "\n",
    "\n",
    "\n",
    "\n",
    "\n",
    "\n",
    "\n",
    "\n",
    "\n"
   ]
  },
  {
   "cell_type": "code",
   "execution_count": null,
   "metadata": {},
   "outputs": [],
   "source": []
  },
  {
   "cell_type": "code",
   "execution_count": null,
   "metadata": {},
   "outputs": [],
   "source": []
  },
  {
   "cell_type": "code",
   "execution_count": null,
   "metadata": {},
   "outputs": [],
   "source": []
  },
  {
   "cell_type": "code",
   "execution_count": null,
   "metadata": {},
   "outputs": [],
   "source": []
  },
  {
   "cell_type": "code",
   "execution_count": null,
   "metadata": {},
   "outputs": [],
   "source": []
  },
  {
   "cell_type": "code",
   "execution_count": null,
   "metadata": {},
   "outputs": [],
   "source": []
  },
  {
   "cell_type": "code",
   "execution_count": null,
   "metadata": {},
   "outputs": [],
   "source": []
  },
  {
   "cell_type": "code",
   "execution_count": null,
   "metadata": {},
   "outputs": [],
   "source": []
  },
  {
   "cell_type": "code",
   "execution_count": null,
   "metadata": {},
   "outputs": [],
   "source": []
  },
  {
   "cell_type": "code",
   "execution_count": null,
   "metadata": {},
   "outputs": [],
   "source": []
  },
  {
   "cell_type": "code",
   "execution_count": null,
   "metadata": {},
   "outputs": [],
   "source": []
  },
  {
   "cell_type": "code",
   "execution_count": null,
   "metadata": {},
   "outputs": [],
   "source": []
  },
  {
   "cell_type": "code",
   "execution_count": null,
   "metadata": {},
   "outputs": [],
   "source": []
  }
 ],
 "metadata": {
  "kernelspec": {
   "display_name": "Python 3",
   "language": "python",
   "name": "python3"
  },
  "language_info": {
   "codemirror_mode": {
    "name": "ipython",
    "version": 3
   },
   "file_extension": ".py",
   "mimetype": "text/x-python",
   "name": "python",
   "nbconvert_exporter": "python",
   "pygments_lexer": "ipython3",
   "version": "3.6.10"
  }
 },
 "nbformat": 4,
 "nbformat_minor": 4
}
