{
 "cells": [
  {
   "cell_type": "markdown",
   "metadata": {},
   "source": [
    "From (https://blog.keras.io/building-autoencoders-in-keras.html) By [Francois Chollet](https://twitter.com/fchollet)\n",
    "# Autoencoders\n",
    "\n",
    "\n",
    "![autoencoder](https://www.compthree.com/images/blog/ae/ae.png)\n",
    "\n",
    "Usually, they are used for extracting latent representations with a lower dimensionality than the input data -> data compression \n",
    "\n",
    "## Case: MNIST handwritten digits\n",
    "\n",
    "### Dataset: \n",
    "\n",
    "Train images: 60,000\n",
    "\n",
    "Test images: 10,000\n",
    "\n",
    "Image size: 28x28 pixels\n",
    "\n",
    "![dataset](https://www.researchgate.net/profile/Steven_Young11/publication/306056875/figure/fig1/AS:393921575309346@1470929630835/Example-images-from-the-MNIST-dataset_W640.jpg)\n",
    "![image of a digit](https://3qeqpr26caki16dnhd19sv6by6v-wpengine.netdna-ssl.com/wp-content/uploads/2016/05/Examples-from-the-MNIST-dataset.png)\n",
    "\n",
    "\n"
   ]
  },
  {
   "cell_type": "code",
   "execution_count": 1,
   "metadata": {},
   "outputs": [
    {
     "name": "stderr",
     "output_type": "stream",
     "text": [
      "Using TensorFlow backend.\n"
     ]
    },
    {
     "data": {
      "text/plain": [
       "array([5, 0, 4, ..., 5, 6, 8], dtype=uint8)"
      ]
     },
     "execution_count": 1,
     "metadata": {},
     "output_type": "execute_result"
    }
   ],
   "source": [
    "# Import MNIST dataset\n",
    "\n",
    "from keras.datasets import mnist\n",
    "import numpy as np\n",
    "\n",
    "(x_train, y_train), (x_test, y_test) = mnist.load_data()\n",
    "\n",
    "# labels\n",
    "y_train"
   ]
  },
  {
   "cell_type": "code",
   "execution_count": 2,
   "metadata": {},
   "outputs": [],
   "source": [
    "# show images\n",
    "import matplotlib.pyplot as plt\n",
    "\n",
    "def see_images(dataset, n):\n",
    "    plt.figure(figsize=(20, 4))\n",
    "    for i in range(n):\n",
    "        ax = plt.subplot(2, n, i + 1)\n",
    "        plt.imshow(dataset[i].reshape(28,28))\n",
    "        plt.gray()\n",
    "        ax.get_xaxis().set_visible(False)\n",
    "        ax.get_yaxis().set_visible(False)\n",
    "    plt.show()"
   ]
  },
  {
   "cell_type": "code",
   "execution_count": 3,
   "metadata": {},
   "outputs": [
    {
     "data": {
      "image/png": "[encoded data removed]",
      "text/plain": [
       "<Figure size 1440x288 with 6 Axes>"
      ]
     },
     "metadata": {
      "needs_background": "light"
     },
     "output_type": "display_data"
    }
   ],
   "source": [
    "see_images(x_train, 6)"
   ]
  },
  {
   "cell_type": "code",
   "execution_count": 4,
   "metadata": {},
   "outputs": [
    {
     "data": {
      "text/plain": [
       "(60000, 784)"
      ]
     },
     "execution_count": 4,
     "metadata": {},
     "output_type": "execute_result"
    }
   ],
   "source": [
    "# We need to preprocess our data to use them as input in the network. \n",
    "# We normalise the images, each pixel within [0, 1] and format the images into a vector\n",
    "\n",
    "x_train = x_train.astype('float32') / 255 # 255 max rgb value\n",
    "x_test = x_test.astype('float32') / 255\n",
    "x_train = x_train.reshape(len(x_train), np.prod(x_train.shape[1:]))\n",
    "x_test = x_test.reshape(len(x_test), np.prod(x_test.shape[1:]))\n",
    "\n",
    "input_dim = x_train.shape[1]\n",
    "x_train.shape"
   ]
  },
  {
   "cell_type": "markdown",
   "metadata": {},
   "source": [
    "### Simplest autoencoder\n",
    "We will use a single fully-connected neural for our encoder and decoder.\n",
    "\n",
    "Elements:\n",
    "\n",
    "* Input layer: $y = xI$\n",
    "* Fully-connected layer: $y = xA^T + b$\n",
    "* Rectified Linear Unit function: $ReLu(x)=max(0, x)$ (encoder)\n",
    "* Sigmoid function: $Sigmoid(x) = \\sigma(x) = \\frac{1}{1+exp(-x)}$ (decoder)\n",
    "\n",
    "![autoencoder for MNIST](https://blog.keras.io/img/ae/autoencoder_schema.jpg)"
   ]
  },
  {
   "cell_type": "code",
   "execution_count": 5,
   "metadata": {},
   "outputs": [],
   "source": [
    "from keras.layers import Input, Dense\n",
    "from keras.models import Model # (template for architecture)\n",
    "\n",
    "# latent representations dimension\n",
    "latent_dim = 32\n",
    "# input layer\n",
    "input_img = Input(shape=(input_dim, ))\n",
    "\n",
    "# encoder\n",
    "encoder = Dense(latent_dim, activation='relu')\n",
    "encoder_feats = encoder(input_img)\n",
    "\n",
    "# decoder\n",
    "decoder = Dense(input_dim, activation='sigmoid')\n",
    "decoder_out = decoder(encoder_feats)\n",
    "\n",
    "# model\n",
    "simple_autoencoder = Model(input_img, decoder_out)"
   ]
  },
  {
   "cell_type": "code",
   "execution_count": 6,
   "metadata": {},
   "outputs": [],
   "source": [
    "encoder_model = Model(input_img, encoder_feats)\n",
    "encoded_input = Input(shape=(latent_dim, ))\n",
    "decoder_model = Model(encoded_input, decoder(encoded_input))"
   ]
  },
  {
   "cell_type": "markdown",
   "metadata": {},
   "source": [
    "Before training the model, we need to set up the loss function and optimizer.\n",
    "\n",
    "Loss function per-pixel crossentropy loss\n",
    "\n",
    "$loss = -[y * log(y' + \\epsilon) + (1-y) * log(1-y' + \\epsilon)]$\n"
   ]
  },
  {
   "cell_type": "code",
   "execution_count": 7,
   "metadata": {},
   "outputs": [],
   "source": [
    "simple_autoencoder.compile(optimizer='adadelta', loss='binary_crossentropy')"
   ]
  },
  {
   "cell_type": "code",
   "execution_count": 8,
   "metadata": {},
   "outputs": [
    {
     "name": "stdout",
     "output_type": "stream",
     "text": [
      "Train on 60000 samples, validate on 10000 samples\n",
      "Epoch 1/50\n",
      "60000/60000 [==============================] - 3s 56us/step - loss: 0.3728 - val_loss: 0.2704\n",
      "Epoch 2/50\n",
      "60000/60000 [==============================] - 4s 60us/step - loss: 0.2617 - val_loss: 0.2496\n",
      "Epoch 3/50\n",
      "60000/60000 [==============================] - 3s 54us/step - loss: 0.2400 - val_loss: 0.2283\n",
      "Epoch 4/50\n",
      "60000/60000 [==============================] - 3s 52us/step - loss: 0.2211 - val_loss: 0.2116\n",
      "Epoch 5/50\n",
      "60000/60000 [==============================] - 3s 54us/step - loss: 0.2070 - val_loss: 0.1996\n",
      "Epoch 6/50\n",
      "60000/60000 [==============================] - 4s 60us/step - loss: 0.1961 - val_loss: 0.1899\n",
      "Epoch 7/50\n",
      "60000/60000 [==============================] - 3s 52us/step - loss: 0.1874 - val_loss: 0.1822\n",
      "Epoch 8/50\n",
      "60000/60000 [==============================] - 4s 59us/step - loss: 0.1803 - val_loss: 0.1758\n",
      "Epoch 9/50\n",
      "60000/60000 [==============================] - 3s 48us/step - loss: 0.1745 - val_loss: 0.1704\n",
      "Epoch 10/50\n",
      "60000/60000 [==============================] - 3s 50us/step - loss: 0.1694 - val_loss: 0.1656\n",
      "Epoch 11/50\n",
      "60000/60000 [==============================] - 3s 50us/step - loss: 0.1648 - val_loss: 0.1611\n",
      "Epoch 12/50\n",
      "60000/60000 [==============================] - 3s 53us/step - loss: 0.1606 - val_loss: 0.1569\n",
      "Epoch 13/50\n",
      "60000/60000 [==============================] - 4s 61us/step - loss: 0.1566 - val_loss: 0.1532\n",
      "Epoch 14/50\n",
      "60000/60000 [==============================] - 3s 58us/step - loss: 0.1530 - val_loss: 0.1496\n",
      "Epoch 15/50\n",
      "60000/60000 [==============================] - 4s 60us/step - loss: 0.1496 - val_loss: 0.1464\n",
      "Epoch 16/50\n",
      "60000/60000 [==============================] - 3s 57us/step - loss: 0.1465 - val_loss: 0.1434\n",
      "Epoch 17/50\n",
      "60000/60000 [==============================] - 3s 52us/step - loss: 0.1437 - val_loss: 0.1406\n",
      "Epoch 18/50\n",
      "60000/60000 [==============================] - 4s 59us/step - loss: 0.1410 - val_loss: 0.1381\n",
      "Epoch 19/50\n",
      "60000/60000 [==============================] - 4s 65us/step - loss: 0.1386 - val_loss: 0.1358\n",
      "Epoch 20/50\n",
      "60000/60000 [==============================] - 3s 54us/step - loss: 0.1363 - val_loss: 0.1335\n",
      "Epoch 21/50\n",
      "60000/60000 [==============================] - 4s 64us/step - loss: 0.1341 - val_loss: 0.1313\n",
      "Epoch 22/50\n",
      "60000/60000 [==============================] - 4s 69us/step - loss: 0.1319 - val_loss: 0.1293\n",
      "Epoch 23/50\n",
      "60000/60000 [==============================] - 4s 68us/step - loss: 0.1299 - val_loss: 0.1273\n",
      "Epoch 24/50\n",
      "60000/60000 [==============================] - 4s 67us/step - loss: 0.1279 - val_loss: 0.1254\n",
      "Epoch 25/50\n",
      "60000/60000 [==============================] - 4s 69us/step - loss: 0.1260 - val_loss: 0.1235\n",
      "Epoch 26/50\n",
      "60000/60000 [==============================] - 4s 65us/step - loss: 0.1242 - val_loss: 0.1218\n",
      "Epoch 27/50\n",
      "60000/60000 [==============================] - 4s 60us/step - loss: 0.1225 - val_loss: 0.1201\n",
      "Epoch 28/50\n",
      "60000/60000 [==============================] - 4s 65us/step - loss: 0.1208 - val_loss: 0.1185\n",
      "Epoch 29/50\n",
      "60000/60000 [==============================] - 4s 70us/step - loss: 0.1193 - val_loss: 0.1170\n",
      "Epoch 30/50\n",
      "60000/60000 [==============================] - 4s 61us/step - loss: 0.1178 - val_loss: 0.1156\n",
      "Epoch 31/50\n",
      "60000/60000 [==============================] - 4s 60us/step - loss: 0.1165 - val_loss: 0.1142\n",
      "Epoch 32/50\n",
      "60000/60000 [==============================] - 4s 67us/step - loss: 0.1152 - val_loss: 0.1130\n",
      "Epoch 33/50\n",
      "60000/60000 [==============================] - 4s 62us/step - loss: 0.1140 - val_loss: 0.1119\n",
      "Epoch 34/50\n",
      "60000/60000 [==============================] - 4s 62us/step - loss: 0.1129 - val_loss: 0.1108\n",
      "Epoch 35/50\n",
      "60000/60000 [==============================] - 4s 60us/step - loss: 0.1118 - val_loss: 0.1098\n",
      "Epoch 36/50\n",
      "60000/60000 [==============================] - 4s 60us/step - loss: 0.1109 - val_loss: 0.1089\n",
      "Epoch 37/50\n",
      "60000/60000 [==============================] - 4s 68us/step - loss: 0.1100 - val_loss: 0.1080\n",
      "Epoch 38/50\n",
      "60000/60000 [==============================] - 3s 56us/step - loss: 0.1092 - val_loss: 0.1072\n",
      "Epoch 39/50\n",
      "60000/60000 [==============================] - 3s 57us/step - loss: 0.1084 - val_loss: 0.1065\n",
      "Epoch 40/50\n",
      "60000/60000 [==============================] - 5s 76us/step - loss: 0.1077 - val_loss: 0.1058\n",
      "Epoch 41/50\n",
      "60000/60000 [==============================] - 4s 65us/step - loss: 0.1071 - val_loss: 0.1052\n",
      "Epoch 42/50\n",
      "60000/60000 [==============================] - 3s 58us/step - loss: 0.1065 - val_loss: 0.1047\n",
      "Epoch 43/50\n",
      "60000/60000 [==============================] - 4s 61us/step - loss: 0.1060 - val_loss: 0.1041\n",
      "Epoch 44/50\n",
      "60000/60000 [==============================] - 4s 60us/step - loss: 0.1055 - val_loss: 0.1036\n",
      "Epoch 45/50\n",
      "60000/60000 [==============================] - 3s 58us/step - loss: 0.1050 - val_loss: 0.1032\n",
      "Epoch 46/50\n",
      "60000/60000 [==============================] - 4s 59us/step - loss: 0.1046 - val_loss: 0.1028\n",
      "Epoch 47/50\n",
      "60000/60000 [==============================] - 4s 61us/step - loss: 0.1041 - val_loss: 0.1024\n",
      "Epoch 48/50\n",
      "60000/60000 [==============================] - 3s 58us/step - loss: 0.1038 - val_loss: 0.1020\n",
      "Epoch 49/50\n",
      "60000/60000 [==============================] - 3s 56us/step - loss: 0.1034 - val_loss: 0.1016\n",
      "Epoch 50/50\n",
      "60000/60000 [==============================] - 4s 66us/step - loss: 0.1031 - val_loss: 0.1013\n"
     ]
    },
    {
     "data": {
      "text/plain": [
       "'\\nsimple_autoencoder.fit(x_train, x_train,\\n                epochs=50,\\n                batch_size=256,\\n                shuffle=True,\\n                validation_data=(x_test, x_test))\\n'"
      ]
     },
     "execution_count": 8,
     "metadata": {},
     "output_type": "execute_result"
    }
   ],
   "source": [
    "# Train model\n",
    "simple_autoencoder.fit(x_train, x_train,  # the target is the same input data!\n",
    "                       epochs=50, \n",
    "                       batch_size=256, \n",
    "                       shuffle=True, \n",
    "                       validation_data=(x_test, x_test)) "
   ]
  },
  {
   "cell_type": "code",
   "execution_count": 10,
   "metadata": {},
   "outputs": [
    {
     "data": {
      "image/png": "[encoded data removed]",
      "text/plain": [
       "<Figure size 1440x288 with 5 Axes>"
      ]
     },
     "metadata": {
      "needs_background": "light"
     },
     "output_type": "display_data"
    },
    {
     "data": {
      "image/png": "[encoded data removed]",
      "text/plain": [
       "<Figure size 1440x288 with 5 Axes>"
      ]
     },
     "metadata": {
      "needs_background": "light"
     },
     "output_type": "display_data"
    },
    {
     "data": {
      "image/png": "[encoded data removed]",
      "text/plain": [
       "<Figure size 1440x288 with 5 Axes>"
      ]
     },
     "metadata": {
      "needs_background": "light"
     },
     "output_type": "display_data"
    }
   ],
   "source": [
    "# Predict digits\n",
    "prediction = simple_autoencoder.predict(x_test)\n",
    "\n",
    "# Visualisation of predictions\n",
    "see_images(x_test, 5)\n",
    "see_images(prediction, 5)\n",
    "\n",
    "# Using decoder and encoder model\n",
    "encoded_imgs = encoder_model.predict(x_test)\n",
    "decoded_imgs = decoder_model.predict(encoded_imgs)\n",
    "\n",
    "see_images(decoded_imgs, 5)"
   ]
  },
  {
   "cell_type": "code",
   "execution_count": 11,
   "metadata": {},
   "outputs": [
    {
     "data": {
      "text/plain": [
       "array([ 3.4168975,  9.73697  ,  4.0405474, -0.       ,  2.5260572,\n",
       "        7.849966 ,  5.9144373,  2.6547973, -0.       ,  4.030358 ,\n",
       "        7.923523 , 10.401867 , 10.825691 ,  6.086287 ,  5.351529 ,\n",
       "        7.7557144,  3.1874466,  3.4728453, 12.695125 ,  5.8492384,\n",
       "        2.665689 , -0.       ,  6.0242333,  3.8416348, 11.725248 ,\n",
       "        8.529642 ,  8.372928 , 11.944905 , -0.       ,  4.4268446,\n",
       "        4.178211 ,  7.6326623], dtype=float32)"
      ]
     },
     "execution_count": 11,
     "metadata": {},
     "output_type": "execute_result"
    }
   ],
   "source": [
    "# latent representations\n",
    "encoded_imgs[0]"
   ]
  },
  {
   "cell_type": "markdown",
   "metadata": {},
   "source": [
    "### Varietional Autoencoder (VAE)\n",
    "\n",
    "VAE is a generative model that learns the parameters of the probability distribution modelling the input data. \n",
    "\n",
    "\"A VAE encodes data Y (e.g., a sentence) as hidden random variables Z, based on which the decoder reconstructs Y. Consider a generative model, parameterized by $\\theta$, as\"\n",
    "\n",
    "$p_{\\theta}(Z,Y) = p_{\\theta}(Z)p_{\\theta}(Y|Z)$ (Bahuleyan et al., 2018)\n",
    "\n",
    "**Encoder**: it learns two parameters (`z_mean`, and `z_log_sigma`) in the latent space from the input data, and it randomly samples points from the latent normal distribution (`z = z_mean + exp(0.5 * z_log_sigma) * epsilon`).\n",
    "\n",
    "**Decoder**: it maps the latent space points to the original input data\n",
    "\n",
    "\n",
    "**Loss fuctions**: a VAE has two loss functions: the unimodal(reconstruction $l_{re}$) loss as in the simple autoencoder and the KL divergence ($D_{KL}$) between the latent distribution (approximation, learned parameters) and the prior distribution (actual distribution of latent space ?) which works as a regulaser. \n",
    "\n",
    "$l_{vae} = l_{re} - D_{KL}$\n",
    "\n",
    "$l_{vae} = -[y * log(y' + \\epsilon) + (1-y) * log(1-y' + \\epsilon)] - [0.5 * \\frac{1}{n}\\sum^{n}{1+z_{sigma} - z_{mean}^2 - e^{z_{sigma}}}]$\n"
   ]
  },
  {
   "cell_type": "code",
   "execution_count": 12,
   "metadata": {},
   "outputs": [],
   "source": [
    "# parameters\n",
    "intermediate_dim = 512 # dimension of points in the latent space\n",
    "batch_size = 128 \n",
    "latent_dim = 2 # the two latent parameters z_mean and z_sigma"
   ]
  },
  {
   "cell_type": "markdown",
   "metadata": {},
   "source": [
    "![architecture sequential VAE](img/VAE_arch.png)\n",
    "(Kingma and Welling, 2014)"
   ]
  },
  {
   "cell_type": "code",
   "execution_count": 17,
   "metadata": {},
   "outputs": [],
   "source": [
    "# architecture\n",
    "\n",
    "inputs = Input(shape=(input_dim, ), name='encoder_input')\n",
    "\n",
    "# encoder (x -> z_mean & x -> z_log_var)\n",
    "encoder_1 = Dense(intermediate_dim, activation='relu')\n",
    "encoder_out_1 = encoder_1(inputs)\n",
    "z_mean = Dense(latent_dim, name='z_mean')\n",
    "z_mean_out = z_mean(encoder_out_1)\n",
    "z_log_sigma = Dense(latent_dim, name='z_log_sigma')\n",
    "z_log_sigma_out = z_log_sigma(encoder_out_1)\n",
    "\n"
   ]
  },
  {
   "cell_type": "code",
   "execution_count": 28,
   "metadata": {},
   "outputs": [],
   "source": [
    "# sampling\n",
    "from keras import backend as K # operations with tensors\n",
    "\n",
    "def sampling(params):\n",
    "    z_mean, z_log_sigma = params\n",
    "    epsilon = K.random_normal(shape=(K.shape(z_mean)[0], latent_dim)) # mean = 0, std = 1\n",
    "    return z_mean + K.exp(0.5 * z_log_sigma) * epsilon #\n",
    "\n",
    "# We need to wrap the output of sampling into a layer for connecting it with the decoder. For that we can\n",
    "# a Lambda layer\n",
    "from keras.layers import Lambda\n",
    "z = Lambda(sampling, output_shape=(latent_dim, ))\n",
    "z_out = z([z_mean_out, z_log_sigma_out])"
   ]
  },
  {
   "cell_type": "code",
   "execution_count": 29,
   "metadata": {},
   "outputs": [],
   "source": [
    "# decoder\n",
    "decoder_1 = Dense(intermediate_dim, activation='relu')\n",
    "decoder_2 = Dense(input_dim, activation='sigmoid')\n",
    "decoder_1_out = decoder_1(z_out)\n",
    "decoder_2_out = decoder_2(decoder_1_out)"
   ]
  },
  {
   "cell_type": "code",
   "execution_count": 30,
   "metadata": {},
   "outputs": [],
   "source": [
    "# models\n",
    "\n",
    "# end-to-end autoencoder\n",
    "vae = Model(inputs, decoder_2_out) \n",
    "\n",
    "# from inputs to latent space\n",
    "encoder_model = Model(inputs, z_mean_out) \n",
    "\n",
    "# generator\n",
    "decoder_input = Input(shape=(latent_dim, ))\n",
    "_decoder_1_out = decoder_1(decoder_input)\n",
    "_decoder_2_out = decoder_2(_decoder_1_out)\n",
    "generator = Model(decoder_input, _decoder_2_out)"
   ]
  },
  {
   "cell_type": "code",
   "execution_count": 31,
   "metadata": {},
   "outputs": [],
   "source": [
    "# loss\n",
    "from keras import objectives\n",
    "\n",
    "def vae_loss(x, x_decoded):\n",
    "    l_re = objectives.binary_crossentropy(x, x_decoded)\n",
    "    d_kl = - 0.5 * K.mean(1+z_log_sigma_out - K.square(z_mean_out) - K.exp(z_log_sigma_out), axis=-1)\n",
    "    return l_re + d_kl\n",
    "\n",
    "vae.compile(optimizer='rmsprop', loss=vae_loss)"
   ]
  },
  {
   "cell_type": "code",
   "execution_count": 32,
   "metadata": {},
   "outputs": [
    {
     "name": "stdout",
     "output_type": "stream",
     "text": [
      "Train on 60000 samples, validate on 10000 samples\n",
      "Epoch 1/50\n",
      "60000/60000 [==============================] - 11s 177us/step - loss: 0.6752 - val_loss: 0.2654\n",
      "Epoch 2/50\n",
      "60000/60000 [==============================] - 11s 175us/step - loss: 0.2657 - val_loss: 0.2679\n",
      "Epoch 3/50\n",
      "60000/60000 [==============================] - 12s 193us/step - loss: 0.2652 - val_loss: 0.2642\n",
      "Epoch 4/50\n",
      "60000/60000 [==============================] - 10s 170us/step - loss: 0.2649 - val_loss: 0.2637\n",
      "Epoch 5/50\n",
      "60000/60000 [==============================] - 11s 177us/step - loss: 0.2646 - val_loss: 0.2645\n",
      "Epoch 6/50\n",
      "60000/60000 [==============================] - 10s 175us/step - loss: 0.2645 - val_loss: 0.2638\n",
      "Epoch 7/50\n",
      "60000/60000 [==============================] - 10s 174us/step - loss: 0.2643 - val_loss: 0.2634\n",
      "Epoch 8/50\n",
      "60000/60000 [==============================] - 12s 205us/step - loss: 0.2642 - val_loss: 0.2634\n",
      "Epoch 9/50\n",
      "60000/60000 [==============================] - 11s 190us/step - loss: 0.2640 - val_loss: 0.2633\n",
      "Epoch 10/50\n",
      "60000/60000 [==============================] - 12s 196us/step - loss: 0.2639 - val_loss: 0.2633\n",
      "Epoch 11/50\n",
      "60000/60000 [==============================] - 11s 181us/step - loss: 0.2638 - val_loss: 0.2632\n",
      "Epoch 12/50\n",
      "60000/60000 [==============================] - 10s 175us/step - loss: 0.2637 - val_loss: 0.2631\n",
      "Epoch 13/50\n",
      "60000/60000 [==============================] - 11s 181us/step - loss: 0.2636 - val_loss: 0.2633\n",
      "Epoch 14/50\n",
      "60000/60000 [==============================] - 11s 189us/step - loss: 0.2635 - val_loss: 0.2627\n",
      "Epoch 15/50\n",
      "60000/60000 [==============================] - 16s 273us/step - loss: 0.2634 - val_loss: 0.2629\n",
      "Epoch 16/50\n",
      "60000/60000 [==============================] - 12s 194us/step - loss: 0.2634 - val_loss: 0.2629\n",
      "Epoch 17/50\n",
      "60000/60000 [==============================] - 11s 185us/step - loss: 0.2633 - val_loss: 0.2629\n",
      "Epoch 18/50\n",
      "60000/60000 [==============================] - 12s 200us/step - loss: 0.2632 - val_loss: 0.2628\n",
      "Epoch 19/50\n",
      "60000/60000 [==============================] - 11s 190us/step - loss: 0.2632 - val_loss: 0.2630\n",
      "Epoch 20/50\n",
      "60000/60000 [==============================] - 12s 198us/step - loss: 0.2632 - val_loss: 0.2629\n",
      "Epoch 21/50\n",
      "60000/60000 [==============================] - 13s 220us/step - loss: 0.2631 - val_loss: 0.2627\n",
      "Epoch 22/50\n",
      "60000/60000 [==============================] - 13s 212us/step - loss: 0.2631 - val_loss: 0.2627\n",
      "Epoch 23/50\n",
      "60000/60000 [==============================] - 11s 182us/step - loss: 0.2630 - val_loss: 0.2627\n",
      "Epoch 24/50\n",
      "60000/60000 [==============================] - 11s 180us/step - loss: 0.2630 - val_loss: 0.2627\n",
      "Epoch 25/50\n",
      "60000/60000 [==============================] - 10s 175us/step - loss: 0.2630 - val_loss: 0.2626\n",
      "Epoch 26/50\n",
      "60000/60000 [==============================] - 11s 186us/step - loss: 0.2629 - val_loss: 0.2625\n",
      "Epoch 27/50\n",
      "60000/60000 [==============================] - 11s 182us/step - loss: 0.2629 - val_loss: 0.2627\n",
      "Epoch 28/50\n",
      "60000/60000 [==============================] - 12s 193us/step - loss: 0.2629 - val_loss: 0.2626\n",
      "Epoch 29/50\n",
      "60000/60000 [==============================] - 11s 191us/step - loss: 0.2629 - val_loss: 0.2626\n",
      "Epoch 30/50\n",
      "60000/60000 [==============================] - 11s 191us/step - loss: 0.2629 - val_loss: 0.2626\n",
      "Epoch 31/50\n",
      "60000/60000 [==============================] - 12s 194us/step - loss: 0.2629 - val_loss: 0.2627\n",
      "Epoch 32/50\n",
      "60000/60000 [==============================] - 12s 196us/step - loss: 0.2629 - val_loss: 0.2626\n",
      "Epoch 33/50\n",
      "60000/60000 [==============================] - 12s 201us/step - loss: 0.2629 - val_loss: 0.2626\n",
      "Epoch 34/50\n",
      "60000/60000 [==============================] - 13s 209us/step - loss: 0.2629 - val_loss: 0.2626\n",
      "Epoch 35/50\n",
      "60000/60000 [==============================] - 13s 220us/step - loss: 0.2629 - val_loss: 0.2625\n",
      "Epoch 36/50\n",
      "60000/60000 [==============================] - 12s 196us/step - loss: 0.2629 - val_loss: 0.2627\n",
      "Epoch 37/50\n",
      "60000/60000 [==============================] - 12s 195us/step - loss: 0.2629 - val_loss: 0.2626\n",
      "Epoch 38/50\n",
      "60000/60000 [==============================] - 12s 207us/step - loss: 0.2629 - val_loss: 0.2627\n",
      "Epoch 39/50\n",
      "60000/60000 [==============================] - 15s 246us/step - loss: 0.2629 - val_loss: 0.2625\n",
      "Epoch 40/50\n",
      "60000/60000 [==============================] - 13s 213us/step - loss: 0.2629 - val_loss: 0.2626\n",
      "Epoch 41/50\n",
      "60000/60000 [==============================] - 12s 203us/step - loss: 0.2629 - val_loss: 0.2626\n",
      "Epoch 42/50\n",
      "60000/60000 [==============================] - 11s 189us/step - loss: 0.2629 - val_loss: 0.2626\n",
      "Epoch 43/50\n",
      "60000/60000 [==============================] - 12s 201us/step - loss: 0.2629 - val_loss: 0.2626\n",
      "Epoch 44/50\n",
      "60000/60000 [==============================] - 12s 206us/step - loss: 0.2629 - val_loss: 0.2626\n",
      "Epoch 45/50\n",
      "60000/60000 [==============================] - 12s 207us/step - loss: 0.2629 - val_loss: 0.2626\n",
      "Epoch 46/50\n",
      "60000/60000 [==============================] - 13s 220us/step - loss: 0.2629 - val_loss: 0.2625\n",
      "Epoch 47/50\n",
      "60000/60000 [==============================] - 11s 182us/step - loss: 0.2629 - val_loss: 0.2626\n",
      "Epoch 48/50\n",
      "60000/60000 [==============================] - 12s 205us/step - loss: 0.2629 - val_loss: 0.2627\n",
      "Epoch 49/50\n",
      "60000/60000 [==============================] - 13s 220us/step - loss: 0.2629 - val_loss: 0.2626\n",
      "Epoch 50/50\n",
      "60000/60000 [==============================] - 12s 200us/step - loss: 0.2629 - val_loss: 0.2626\n"
     ]
    },
    {
     "data": {
      "text/plain": [
       "<keras.callbacks.callbacks.History at 0x7fb2684450f0>"
      ]
     },
     "execution_count": 32,
     "metadata": {},
     "output_type": "execute_result"
    }
   ],
   "source": [
    "# train \n",
    "vae.fit(x_train, x_train,\n",
    "       shuffle=True,\n",
    "       epochs=50,\n",
    "       batch_size=batch_size,\n",
    "       validation_data=(x_test,x_test))"
   ]
  },
  {
   "cell_type": "code",
   "execution_count": 36,
   "metadata": {},
   "outputs": [
    {
     "data": {
      "image/png": "[encoded data removed]",
      "text/plain": [
       "<Figure size 432x432 with 2 Axes>"
      ]
     },
     "metadata": {
      "needs_background": "light"
     },
     "output_type": "display_data"
    }
   ],
   "source": [
    "x_test_encoded = encoder_model.predict(x_test, batch_size=batch_size)\n",
    "plt.figure(figsize=(6, 6))\n",
    "plt.scatter(x_test_encoded[:, 0], x_test_encoded[:, 1], c=y_test)\n",
    "plt.colorbar()\n",
    "plt.xlabel(\"z[0]\")\n",
    "plt.ylabel(\"z[1]\")\n",
    "plt.show()"
   ]
  },
  {
   "cell_type": "code",
   "execution_count": null,
   "metadata": {},
   "outputs": [],
   "source": []
  }
 ],
 "metadata": {
  "kernelspec": {
   "display_name": "Python 3",
   "language": "python",
   "name": "python3"
  },
  "language_info": {
   "codemirror_mode": {
    "name": "ipython",
    "version": 3
   },
   "file_extension": ".py",
   "mimetype": "text/x-python",
   "name": "python",
   "nbconvert_exporter": "python",
   "pygments_lexer": "ipython3",
   "version": "3.6.10"
  }
 },
 "nbformat": 4,
 "nbformat_minor": 4
}
