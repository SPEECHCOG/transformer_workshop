{
 "cells": [
  {
   "cell_type": "markdown",
   "metadata": {},
   "source": [
    "Code based on (https://blog.keras.io/building-autoencoders-in-keras.html) By [Francois Chollet](https://twitter.com/fchollet)\n",
    "# Autoencoders\n",
    "\n",
    "\n",
    "![autoencoder](https://www.compthree.com/images/blog/ae/ae.png)\n",
    "\n",
    "Usually, they are used for extracting latent representations with a lower dimensionality than the input data -> data compression \n",
    "\n",
    "## Case: MNIST handwritten digits\n",
    "\n",
    "### Dataset: \n",
    "\n",
    "Train images: 60,000\n",
    "\n",
    "Test images: 10,000\n",
    "\n",
    "Image size: 28x28 pixels\n",
    "\n",
    "![dataset](https://www.researchgate.net/profile/Steven_Young11/publication/306056875/figure/fig1/AS:393921575309346@1470929630835/Example-images-from-the-MNIST-dataset_W640.jpg)\n",
    "![image of a digit](https://3qeqpr26caki16dnhd19sv6by6v-wpengine.netdna-ssl.com/wp-content/uploads/2016/05/Examples-from-the-MNIST-dataset.png)\n",
    "\n",
    "\n"
   ]
  },
  {
   "cell_type": "code",
   "execution_count": 27,
   "metadata": {},
   "outputs": [
    {
     "data": {
      "text/plain": [
       "array([5, 0, 4, ..., 5, 6, 8], dtype=uint8)"
      ]
     },
     "execution_count": 27,
     "metadata": {},
     "output_type": "execute_result"
    }
   ],
   "source": [
    "# Import MNIST dataset\n",
    "\n",
    "from keras.datasets import mnist\n",
    "import numpy as np\n",
    "\n",
    "(x_train, y_train), (x_test, y_test) = mnist.load_data()\n",
    "\n",
    "# labels\n",
    "y_train"
   ]
  },
  {
   "cell_type": "code",
   "execution_count": 28,
   "metadata": {},
   "outputs": [],
   "source": [
    "# show images\n",
    "import matplotlib.pyplot as plt\n",
    "\n",
    "def see_images(dataset, n):\n",
    "    plt.figure(figsize=(20, 4))\n",
    "    for i in range(n):\n",
    "        ax = plt.subplot(2, n, i + 1)\n",
    "        plt.imshow(dataset[i].reshape(28,28))\n",
    "        plt.gray()\n",
    "        ax.get_xaxis().set_visible(False)\n",
    "        ax.get_yaxis().set_visible(False)\n",
    "    plt.show()"
   ]
  },
  {
   "cell_type": "code",
   "execution_count": 29,
   "metadata": {},
   "outputs": [
    {
     "data": {
      "image/png": "[encoded data removed]",
      "text/plain": [
       "<Figure size 1440x288 with 6 Axes>"
      ]
     },
     "metadata": {
      "needs_background": "light"
     },
     "output_type": "display_data"
    }
   ],
   "source": [
    "see_images(x_train, 6)"
   ]
  },
  {
   "cell_type": "code",
   "execution_count": 31,
   "metadata": {},
   "outputs": [
    {
     "data": {
      "text/plain": [
       "(60000, 784)"
      ]
     },
     "execution_count": 31,
     "metadata": {},
     "output_type": "execute_result"
    }
   ],
   "source": [
    "# We need to preprocess our data to use them as input in the network. \n",
    "# We normalise the images, each pixel within [0, 1] and format the images into a vector\n",
    "\n",
    "x_train = x_train.astype('float32') / 255 # 255 max rgb value\n",
    "x_test = x_test.astype('float32') / 255\n",
    "x_train = x_train.reshape(len(x_train), np.prod(x_train.shape[1:]))\n",
    "x_test = x_test.reshape(len(x_test), np.prod(x_test.shape[1:]))\n",
    "\n",
    "input_dim = x_train.shape[1]\n",
    "x_train.shape"
   ]
  },
  {
   "cell_type": "markdown",
   "metadata": {},
   "source": [
    "### Simplest autoencoder\n",
    "We will use a single fully-connected neural for our encoder and decoder.\n",
    "\n",
    "Elements:\n",
    "\n",
    "* Input layer: $y = xI$\n",
    "* Fully-connected layer: $y = xA^T + b$\n",
    "* Rectified Linear Unit function: $ReLu(x)=max(0, x)$ (encoder)\n",
    "* Sigmoid function: $Sigmoid(x) = \\sigma(x) = \\frac{1}{1+exp(-x)}$ (decoder)\n",
    "\n",
    "![autoencoder for MNIST](https://blog.keras.io/img/ae/autoencoder_schema.jpg)"
   ]
  },
  {
   "cell_type": "code",
   "execution_count": 32,
   "metadata": {},
   "outputs": [],
   "source": [
    "from keras.layers import Input, Dense\n",
    "from keras.models import Model # (template for architecture)\n",
    "\n",
    "# latent representations dimension\n",
    "latent_dim = 32\n",
    "# input layer\n",
    "input_img = Input(shape=(input_dim, ))\n",
    "# encoder\n",
    "encoder = Dense(latent_dim, activation='relu')\n",
    "encoder_feats = encoder(input_img)\n",
    "# decoder\n",
    "decoder = Dense(input_dim, activation='sigmoid')\n",
    "decoder_out = decoder(encoder_feats)\n",
    "\n",
    "# model\n",
    "simple_autoencoder = Model(input_img, decoder_out)"
   ]
  },
  {
   "cell_type": "markdown",
   "metadata": {},
   "source": [
    "Before training the model, we need to set up the loss function and optimizer.\n"
   ]
  },
  {
   "cell_type": "code",
   "execution_count": null,
   "metadata": {},
   "outputs": [],
   "source": []
  }
 ],
 "metadata": {
  "kernelspec": {
   "display_name": "Python 3",
   "language": "python",
   "name": "python3"
  },
  "language_info": {
   "codemirror_mode": {
    "name": "ipython",
    "version": 3
   },
   "file_extension": ".py",
   "mimetype": "text/x-python",
   "name": "python",
   "nbconvert_exporter": "python",
   "pygments_lexer": "ipython3",
   "version": "3.6.10"
  }
 },
 "nbformat": 4,
 "nbformat_minor": 4
}
